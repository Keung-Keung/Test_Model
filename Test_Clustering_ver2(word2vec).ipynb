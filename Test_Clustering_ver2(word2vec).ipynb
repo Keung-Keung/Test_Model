{
  "nbformat": 4,
  "nbformat_minor": 0,
  "metadata": {
    "colab": {
      "provenance": [],
      "gpuType": "T4"
    },
    "kernelspec": {
      "name": "python3",
      "display_name": "Python 3"
    },
    "language_info": {
      "name": "python"
    },
    "accelerator": "GPU"
  },
  "cells": [
    {
      "cell_type": "code",
      "execution_count": 68,
      "metadata": {
        "id": "AUHmzaGfSpWW"
      },
      "outputs": [],
      "source": [
        "import pandas as pd\n",
        "import math\n",
        "import ast\n",
        "import torch"
      ]
    },
    {
      "cell_type": "code",
      "source": [],
      "metadata": {
        "id": "SodQS4lucmkK"
      },
      "execution_count": 68,
      "outputs": []
    },
    {
      "cell_type": "code",
      "source": [
        "# GPU가 사용 가능한지 확인 및 사용\n",
        "if torch.cuda.is_available():\n",
        "    device = torch.device(\"cuda\")\n",
        "    print('There are %d GPU(s) available.' % torch.cuda.device_count())\n",
        "    print('We will use the GPU:', torch.cuda.get_device_name(0))\n",
        "\n",
        "else:\n",
        "    print('No GPU available, using the CPU instead.')\n",
        "    device = torch.device(\"cpu\")"
      ],
      "metadata": {
        "colab": {
          "base_uri": "https://localhost:8080/"
        },
        "id": "LgCVvvV8WLEe",
        "outputId": "c4350a3f-5ccf-45df-90ee-043a6a56c2e4"
      },
      "execution_count": 69,
      "outputs": [
        {
          "output_type": "stream",
          "name": "stdout",
          "text": [
            "There are 1 GPU(s) available.\n",
            "We will use the GPU: Tesla T4\n"
          ]
        }
      ]
    },
    {
      "cell_type": "code",
      "source": [
        "from google.colab import drive\n",
        "import pandas as pd\n",
        "\n",
        "# Google Drive 마운트\n",
        "drive.mount('/content/drive')\n"
      ],
      "metadata": {
        "colab": {
          "base_uri": "https://localhost:8080/"
        },
        "id": "inhRSRHhTNvS",
        "outputId": "bd227b00-4a10-436c-d0cb-ae86f0233825"
      },
      "execution_count": 70,
      "outputs": [
        {
          "output_type": "stream",
          "name": "stdout",
          "text": [
            "Drive already mounted at /content/drive; to attempt to forcibly remount, call drive.mount(\"/content/drive\", force_remount=True).\n"
          ]
        }
      ]
    },
    {
      "cell_type": "code",
      "source": [
        "\n",
        "# 파일 경로\n",
        "file_path = '/content/drive/My Drive/Colab Notebooks/CJ_Hackathon/Data/'\n",
        "\n",
        "#로드\n",
        "df = pd.read_csv(file_path + '(test)perfume_data_combined.csv')\n"
      ],
      "metadata": {
        "id": "Jr6dLrtuTOMt"
      },
      "execution_count": 71,
      "outputs": []
    },
    {
      "cell_type": "code",
      "source": [
        "df.columns"
      ],
      "metadata": {
        "colab": {
          "base_uri": "https://localhost:8080/"
        },
        "id": "TAJorEtRTQXE",
        "outputId": "448a9c7c-434c-4572-eec1-409c0b957aef"
      },
      "execution_count": 72,
      "outputs": [
        {
          "output_type": "execute_result",
          "data": {
            "text/plain": [
              "Index(['name', 'company', 'image', 'for_gender', 'rating', 'number_votes',\n",
              "       'main accords', 'description', 'top notes', 'middle notes',\n",
              "       'base notes', 'longevity', 'sillage', 'gender_vote', 'price value'],\n",
              "      dtype='object')"
            ]
          },
          "metadata": {},
          "execution_count": 72
        }
      ]
    },
    {
      "cell_type": "code",
      "source": [
        "#사용예정 컬럼 추출\n",
        "df = df[['name','main accords', 'description', 'top notes', 'middle notes','base notes']]"
      ],
      "metadata": {
        "id": "450wJcj6TR0u"
      },
      "execution_count": 73,
      "outputs": []
    },
    {
      "cell_type": "markdown",
      "source": [
        "# Preprocessing"
      ],
      "metadata": {
        "id": "hNYRIAgSTmIq"
      }
    },
    {
      "cell_type": "markdown",
      "source": [
        "'main accords'컬럼 전처리"
      ],
      "metadata": {
        "id": "5CnOYB8bUDRf"
      }
    },
    {
      "cell_type": "code",
      "source": [
        "df['main accords'].head()"
      ],
      "metadata": {
        "colab": {
          "base_uri": "https://localhost:8080/"
        },
        "id": "GZ44jNcmUEO1",
        "outputId": "15ff9ed6-e98a-4d71-8d1f-24d1db03af5b"
      },
      "execution_count": 74,
      "outputs": [
        {
          "output_type": "execute_result",
          "data": {
            "text/plain": [
              "0    {'woody': 100.0, 'sweet': 92.6987, 'warm spicy...\n",
              "1    {'white floral': 100.0, 'citrus': 60.4322, 'tu...\n",
              "2    {'vanilla': 100.0, 'aromatic': 71.4216, 'sweet...\n",
              "3    {'woody': 100.0, 'musky': 72.7229, 'amber': 53...\n",
              "4    {'aromatic': 100.0, 'marine': 93.2493, 'citrus...\n",
              "Name: main accords, dtype: object"
            ]
          },
          "metadata": {},
          "execution_count": 74
        }
      ]
    },
    {
      "cell_type": "code",
      "source": [
        "def process_accords(accords):\n",
        "    # 딕셔너리로 변환\n",
        "    accords_dict = ast.literal_eval(accords)\n",
        "\n",
        "    result = []\n",
        "\n",
        "    # 값에 39를 나누고 반올림\n",
        "    for i, (key, value) in enumerate(accords_dict.items()):\n",
        "        if i >= 2:  # 두 번째 요소까지만 활용\n",
        "            break\n",
        "        repeat_count = round(value / 39)\n",
        "\n",
        "        # 반올림한 횟수만큼 키를 반복하여 결과 리스트에 추가\n",
        "        result.extend([key] * repeat_count)\n",
        "\n",
        "    return result\n",
        "\n",
        "\n",
        "# 함수적용\n",
        "df['main accords_pre'] = df['main accords'].apply(process_accords)\n",
        "\n",
        "df.head()\n"
      ],
      "metadata": {
        "colab": {
          "base_uri": "https://localhost:8080/",
          "height": 467
        },
        "id": "dtfpE8eYUFcX",
        "outputId": "61176c29-7241-4e72-f92b-794706e0cbb5"
      },
      "execution_count": 75,
      "outputs": [
        {
          "output_type": "execute_result",
          "data": {
            "text/plain": [
              "                    name                                       main accords  \\\n",
              "0          Angels' Share  {'woody': 100.0, 'sweet': 92.6987, 'warm spicy...   \n",
              "1                 My Way  {'white floral': 100.0, 'citrus': 60.4322, 'tu...   \n",
              "2          Libre Intense  {'vanilla': 100.0, 'aromatic': 71.4216, 'sweet...   \n",
              "3        Dior Homme 2020  {'woody': 100.0, 'musky': 72.7229, 'amber': 53...   \n",
              "4  Acqua di Giò Profondo  {'aromatic': 100.0, 'marine': 93.2493, 'citrus...   \n",
              "\n",
              "                                         description  \\\n",
              "0  Angels' Share by By Kilian is a Oriental Vanil...   \n",
              "1  My Way by Giorgio Armani is a Floral fragrance...   \n",
              "2  Libre Intense by Yves Saint Laurent is a Orien...   \n",
              "3  Dior Homme 2020 by Christian Dior is a Woody f...   \n",
              "4  Acqua di Giò Profondo by Giorgio Armani is a A...   \n",
              "\n",
              "                                           top notes  \\\n",
              "0                                         ['Cognac']   \n",
              "1                     ['Orange Blossom', 'Bergamot']   \n",
              "2        ['Lavender', 'Mandarin Orange', 'Bergamot']   \n",
              "3               ['Bergamot', 'Pink Pepper', 'elemi']   \n",
              "4  ['Sea Notes', 'Aquozone', 'Bergamot', 'Green M...   \n",
              "\n",
              "                                        middle notes  \\\n",
              "0                  ['Cinnamon', 'Tonka Bean', 'Oak']   \n",
              "1                     ['Tuberose', 'Indian Jasmine']   \n",
              "2  ['Lavender', 'Tunisian Orange Blossom', 'Jasmi...   \n",
              "3      ['Cashmere Wood', 'Atlas Cedar', 'Patchouli']   \n",
              "4  ['Rosemary', 'Cypress', 'Lavender', 'Mastic or...   \n",
              "\n",
              "                                          base notes  \\\n",
              "0               ['Praline', 'Vanilla', 'Sandalwood']   \n",
              "1  ['White Musk', 'Madagascar Vanilla', 'Virginia...   \n",
              "2  ['Madagascar Vanilla', 'Tonka Bean', 'Ambergri...   \n",
              "3   ['Iso E Super', 'Haitian Vetiver', 'White Musk']   \n",
              "4    ['Mineral notes', 'Musk', 'Patchouli', 'Amber']   \n",
              "\n",
              "                                    main accords_pre  \n",
              "0                [woody, woody, woody, sweet, sweet]  \n",
              "1  [white floral, white floral, white floral, cit...  \n",
              "2    [vanilla, vanilla, vanilla, aromatic, aromatic]  \n",
              "3                [woody, woody, woody, musky, musky]  \n",
              "4     [aromatic, aromatic, aromatic, marine, marine]  "
            ],
            "text/html": [
              "\n",
              "  <div id=\"df-973aeab1-d136-4030-b6ce-b2e25842a9f3\" class=\"colab-df-container\">\n",
              "    <div>\n",
              "<style scoped>\n",
              "    .dataframe tbody tr th:only-of-type {\n",
              "        vertical-align: middle;\n",
              "    }\n",
              "\n",
              "    .dataframe tbody tr th {\n",
              "        vertical-align: top;\n",
              "    }\n",
              "\n",
              "    .dataframe thead th {\n",
              "        text-align: right;\n",
              "    }\n",
              "</style>\n",
              "<table border=\"1\" class=\"dataframe\">\n",
              "  <thead>\n",
              "    <tr style=\"text-align: right;\">\n",
              "      <th></th>\n",
              "      <th>name</th>\n",
              "      <th>main accords</th>\n",
              "      <th>description</th>\n",
              "      <th>top notes</th>\n",
              "      <th>middle notes</th>\n",
              "      <th>base notes</th>\n",
              "      <th>main accords_pre</th>\n",
              "    </tr>\n",
              "  </thead>\n",
              "  <tbody>\n",
              "    <tr>\n",
              "      <th>0</th>\n",
              "      <td>Angels' Share</td>\n",
              "      <td>{'woody': 100.0, 'sweet': 92.6987, 'warm spicy...</td>\n",
              "      <td>Angels' Share by By Kilian is a Oriental Vanil...</td>\n",
              "      <td>['Cognac']</td>\n",
              "      <td>['Cinnamon', 'Tonka Bean', 'Oak']</td>\n",
              "      <td>['Praline', 'Vanilla', 'Sandalwood']</td>\n",
              "      <td>[woody, woody, woody, sweet, sweet]</td>\n",
              "    </tr>\n",
              "    <tr>\n",
              "      <th>1</th>\n",
              "      <td>My Way</td>\n",
              "      <td>{'white floral': 100.0, 'citrus': 60.4322, 'tu...</td>\n",
              "      <td>My Way by Giorgio Armani is a Floral fragrance...</td>\n",
              "      <td>['Orange Blossom', 'Bergamot']</td>\n",
              "      <td>['Tuberose', 'Indian Jasmine']</td>\n",
              "      <td>['White Musk', 'Madagascar Vanilla', 'Virginia...</td>\n",
              "      <td>[white floral, white floral, white floral, cit...</td>\n",
              "    </tr>\n",
              "    <tr>\n",
              "      <th>2</th>\n",
              "      <td>Libre Intense</td>\n",
              "      <td>{'vanilla': 100.0, 'aromatic': 71.4216, 'sweet...</td>\n",
              "      <td>Libre Intense by Yves Saint Laurent is a Orien...</td>\n",
              "      <td>['Lavender', 'Mandarin Orange', 'Bergamot']</td>\n",
              "      <td>['Lavender', 'Tunisian Orange Blossom', 'Jasmi...</td>\n",
              "      <td>['Madagascar Vanilla', 'Tonka Bean', 'Ambergri...</td>\n",
              "      <td>[vanilla, vanilla, vanilla, aromatic, aromatic]</td>\n",
              "    </tr>\n",
              "    <tr>\n",
              "      <th>3</th>\n",
              "      <td>Dior Homme 2020</td>\n",
              "      <td>{'woody': 100.0, 'musky': 72.7229, 'amber': 53...</td>\n",
              "      <td>Dior Homme 2020 by Christian Dior is a Woody f...</td>\n",
              "      <td>['Bergamot', 'Pink Pepper', 'elemi']</td>\n",
              "      <td>['Cashmere Wood', 'Atlas Cedar', 'Patchouli']</td>\n",
              "      <td>['Iso E Super', 'Haitian Vetiver', 'White Musk']</td>\n",
              "      <td>[woody, woody, woody, musky, musky]</td>\n",
              "    </tr>\n",
              "    <tr>\n",
              "      <th>4</th>\n",
              "      <td>Acqua di Giò Profondo</td>\n",
              "      <td>{'aromatic': 100.0, 'marine': 93.2493, 'citrus...</td>\n",
              "      <td>Acqua di Giò Profondo by Giorgio Armani is a A...</td>\n",
              "      <td>['Sea Notes', 'Aquozone', 'Bergamot', 'Green M...</td>\n",
              "      <td>['Rosemary', 'Cypress', 'Lavender', 'Mastic or...</td>\n",
              "      <td>['Mineral notes', 'Musk', 'Patchouli', 'Amber']</td>\n",
              "      <td>[aromatic, aromatic, aromatic, marine, marine]</td>\n",
              "    </tr>\n",
              "  </tbody>\n",
              "</table>\n",
              "</div>\n",
              "    <div class=\"colab-df-buttons\">\n",
              "\n",
              "  <div class=\"colab-df-container\">\n",
              "    <button class=\"colab-df-convert\" onclick=\"convertToInteractive('df-973aeab1-d136-4030-b6ce-b2e25842a9f3')\"\n",
              "            title=\"Convert this dataframe to an interactive table.\"\n",
              "            style=\"display:none;\">\n",
              "\n",
              "  <svg xmlns=\"http://www.w3.org/2000/svg\" height=\"24px\" viewBox=\"0 -960 960 960\">\n",
              "    <path d=\"M120-120v-720h720v720H120Zm60-500h600v-160H180v160Zm220 220h160v-160H400v160Zm0 220h160v-160H400v160ZM180-400h160v-160H180v160Zm440 0h160v-160H620v160ZM180-180h160v-160H180v160Zm440 0h160v-160H620v160Z\"/>\n",
              "  </svg>\n",
              "    </button>\n",
              "\n",
              "  <style>\n",
              "    .colab-df-container {\n",
              "      display:flex;\n",
              "      gap: 12px;\n",
              "    }\n",
              "\n",
              "    .colab-df-convert {\n",
              "      background-color: #E8F0FE;\n",
              "      border: none;\n",
              "      border-radius: 50%;\n",
              "      cursor: pointer;\n",
              "      display: none;\n",
              "      fill: #1967D2;\n",
              "      height: 32px;\n",
              "      padding: 0 0 0 0;\n",
              "      width: 32px;\n",
              "    }\n",
              "\n",
              "    .colab-df-convert:hover {\n",
              "      background-color: #E2EBFA;\n",
              "      box-shadow: 0px 1px 2px rgba(60, 64, 67, 0.3), 0px 1px 3px 1px rgba(60, 64, 67, 0.15);\n",
              "      fill: #174EA6;\n",
              "    }\n",
              "\n",
              "    .colab-df-buttons div {\n",
              "      margin-bottom: 4px;\n",
              "    }\n",
              "\n",
              "    [theme=dark] .colab-df-convert {\n",
              "      background-color: #3B4455;\n",
              "      fill: #D2E3FC;\n",
              "    }\n",
              "\n",
              "    [theme=dark] .colab-df-convert:hover {\n",
              "      background-color: #434B5C;\n",
              "      box-shadow: 0px 1px 3px 1px rgba(0, 0, 0, 0.15);\n",
              "      filter: drop-shadow(0px 1px 2px rgba(0, 0, 0, 0.3));\n",
              "      fill: #FFFFFF;\n",
              "    }\n",
              "  </style>\n",
              "\n",
              "    <script>\n",
              "      const buttonEl =\n",
              "        document.querySelector('#df-973aeab1-d136-4030-b6ce-b2e25842a9f3 button.colab-df-convert');\n",
              "      buttonEl.style.display =\n",
              "        google.colab.kernel.accessAllowed ? 'block' : 'none';\n",
              "\n",
              "      async function convertToInteractive(key) {\n",
              "        const element = document.querySelector('#df-973aeab1-d136-4030-b6ce-b2e25842a9f3');\n",
              "        const dataTable =\n",
              "          await google.colab.kernel.invokeFunction('convertToInteractive',\n",
              "                                                    [key], {});\n",
              "        if (!dataTable) return;\n",
              "\n",
              "        const docLinkHtml = 'Like what you see? Visit the ' +\n",
              "          '<a target=\"_blank\" href=https://colab.research.google.com/notebooks/data_table.ipynb>data table notebook</a>'\n",
              "          + ' to learn more about interactive tables.';\n",
              "        element.innerHTML = '';\n",
              "        dataTable['output_type'] = 'display_data';\n",
              "        await google.colab.output.renderOutput(dataTable, element);\n",
              "        const docLink = document.createElement('div');\n",
              "        docLink.innerHTML = docLinkHtml;\n",
              "        element.appendChild(docLink);\n",
              "      }\n",
              "    </script>\n",
              "  </div>\n",
              "\n",
              "\n",
              "<div id=\"df-50cfb420-b1c2-47cc-8b93-b74310a3aeb5\">\n",
              "  <button class=\"colab-df-quickchart\" onclick=\"quickchart('df-50cfb420-b1c2-47cc-8b93-b74310a3aeb5')\"\n",
              "            title=\"Suggest charts.\"\n",
              "            style=\"display:none;\">\n",
              "\n",
              "<svg xmlns=\"http://www.w3.org/2000/svg\" height=\"24px\"viewBox=\"0 0 24 24\"\n",
              "     width=\"24px\">\n",
              "    <g>\n",
              "        <path d=\"M19 3H5c-1.1 0-2 .9-2 2v14c0 1.1.9 2 2 2h14c1.1 0 2-.9 2-2V5c0-1.1-.9-2-2-2zM9 17H7v-7h2v7zm4 0h-2V7h2v10zm4 0h-2v-4h2v4z\"/>\n",
              "    </g>\n",
              "</svg>\n",
              "  </button>\n",
              "\n",
              "<style>\n",
              "  .colab-df-quickchart {\n",
              "      --bg-color: #E8F0FE;\n",
              "      --fill-color: #1967D2;\n",
              "      --hover-bg-color: #E2EBFA;\n",
              "      --hover-fill-color: #174EA6;\n",
              "      --disabled-fill-color: #AAA;\n",
              "      --disabled-bg-color: #DDD;\n",
              "  }\n",
              "\n",
              "  [theme=dark] .colab-df-quickchart {\n",
              "      --bg-color: #3B4455;\n",
              "      --fill-color: #D2E3FC;\n",
              "      --hover-bg-color: #434B5C;\n",
              "      --hover-fill-color: #FFFFFF;\n",
              "      --disabled-bg-color: #3B4455;\n",
              "      --disabled-fill-color: #666;\n",
              "  }\n",
              "\n",
              "  .colab-df-quickchart {\n",
              "    background-color: var(--bg-color);\n",
              "    border: none;\n",
              "    border-radius: 50%;\n",
              "    cursor: pointer;\n",
              "    display: none;\n",
              "    fill: var(--fill-color);\n",
              "    height: 32px;\n",
              "    padding: 0;\n",
              "    width: 32px;\n",
              "  }\n",
              "\n",
              "  .colab-df-quickchart:hover {\n",
              "    background-color: var(--hover-bg-color);\n",
              "    box-shadow: 0 1px 2px rgba(60, 64, 67, 0.3), 0 1px 3px 1px rgba(60, 64, 67, 0.15);\n",
              "    fill: var(--button-hover-fill-color);\n",
              "  }\n",
              "\n",
              "  .colab-df-quickchart-complete:disabled,\n",
              "  .colab-df-quickchart-complete:disabled:hover {\n",
              "    background-color: var(--disabled-bg-color);\n",
              "    fill: var(--disabled-fill-color);\n",
              "    box-shadow: none;\n",
              "  }\n",
              "\n",
              "  .colab-df-spinner {\n",
              "    border: 2px solid var(--fill-color);\n",
              "    border-color: transparent;\n",
              "    border-bottom-color: var(--fill-color);\n",
              "    animation:\n",
              "      spin 1s steps(1) infinite;\n",
              "  }\n",
              "\n",
              "  @keyframes spin {\n",
              "    0% {\n",
              "      border-color: transparent;\n",
              "      border-bottom-color: var(--fill-color);\n",
              "      border-left-color: var(--fill-color);\n",
              "    }\n",
              "    20% {\n",
              "      border-color: transparent;\n",
              "      border-left-color: var(--fill-color);\n",
              "      border-top-color: var(--fill-color);\n",
              "    }\n",
              "    30% {\n",
              "      border-color: transparent;\n",
              "      border-left-color: var(--fill-color);\n",
              "      border-top-color: var(--fill-color);\n",
              "      border-right-color: var(--fill-color);\n",
              "    }\n",
              "    40% {\n",
              "      border-color: transparent;\n",
              "      border-right-color: var(--fill-color);\n",
              "      border-top-color: var(--fill-color);\n",
              "    }\n",
              "    60% {\n",
              "      border-color: transparent;\n",
              "      border-right-color: var(--fill-color);\n",
              "    }\n",
              "    80% {\n",
              "      border-color: transparent;\n",
              "      border-right-color: var(--fill-color);\n",
              "      border-bottom-color: var(--fill-color);\n",
              "    }\n",
              "    90% {\n",
              "      border-color: transparent;\n",
              "      border-bottom-color: var(--fill-color);\n",
              "    }\n",
              "  }\n",
              "</style>\n",
              "\n",
              "  <script>\n",
              "    async function quickchart(key) {\n",
              "      const quickchartButtonEl =\n",
              "        document.querySelector('#' + key + ' button');\n",
              "      quickchartButtonEl.disabled = true;  // To prevent multiple clicks.\n",
              "      quickchartButtonEl.classList.add('colab-df-spinner');\n",
              "      try {\n",
              "        const charts = await google.colab.kernel.invokeFunction(\n",
              "            'suggestCharts', [key], {});\n",
              "      } catch (error) {\n",
              "        console.error('Error during call to suggestCharts:', error);\n",
              "      }\n",
              "      quickchartButtonEl.classList.remove('colab-df-spinner');\n",
              "      quickchartButtonEl.classList.add('colab-df-quickchart-complete');\n",
              "    }\n",
              "    (() => {\n",
              "      let quickchartButtonEl =\n",
              "        document.querySelector('#df-50cfb420-b1c2-47cc-8b93-b74310a3aeb5 button');\n",
              "      quickchartButtonEl.style.display =\n",
              "        google.colab.kernel.accessAllowed ? 'block' : 'none';\n",
              "    })();\n",
              "  </script>\n",
              "</div>\n",
              "    </div>\n",
              "  </div>\n"
            ]
          },
          "metadata": {},
          "execution_count": 75
        }
      ]
    },
    {
      "cell_type": "markdown",
      "source": [
        "Clean Text"
      ],
      "metadata": {
        "id": "xVROFxabUhpS"
      }
    },
    {
      "cell_type": "code",
      "source": [
        "import nltk\n",
        "nltk.download('stopwords')\n"
      ],
      "metadata": {
        "colab": {
          "base_uri": "https://localhost:8080/"
        },
        "id": "DdxJ_YJ1Wx6C",
        "outputId": "df2101f9-3351-4437-dbae-27e5ad9087d4"
      },
      "execution_count": 76,
      "outputs": [
        {
          "output_type": "stream",
          "name": "stderr",
          "text": [
            "[nltk_data] Downloading package stopwords to /root/nltk_data...\n",
            "[nltk_data]   Package stopwords is already up-to-date!\n"
          ]
        },
        {
          "output_type": "execute_result",
          "data": {
            "text/plain": [
              "True"
            ]
          },
          "metadata": {},
          "execution_count": 76
        }
      ]
    },
    {
      "cell_type": "code",
      "source": [
        "from nltk.corpus import stopwords\n",
        "from nltk.stem import SnowballStemmer\n",
        "from nltk.tokenize import RegexpTokenizer"
      ],
      "metadata": {
        "id": "1AVteUUrUpIA"
      },
      "execution_count": 77,
      "outputs": []
    },
    {
      "cell_type": "code",
      "source": [
        "# 어간 추출\n",
        "def stem_words(text):\n",
        "    stemmer = SnowballStemmer('english')\n",
        "    stemmed_words = [stemmer.stem(word) for word in text]\n",
        "    text = \" \".join(stemmed_words)\n",
        "    return text\n",
        "\n",
        "# 소문자 변환\n",
        "def make_lower_case(text):\n",
        "    return [word.lower() for word in text]\n",
        "\n",
        "# 불용어 제거\n",
        "def remove_stop_words(text):\n",
        "    stops = set(stopwords.words(\"english\"))\n",
        "    text = [w for w in text if not w in stops]\n",
        "    text = \" \".join(text)\n",
        "    return text\n",
        "\n",
        "# 문장부호 제거\n",
        "def remove_punctuation(text):\n",
        "    tokenizer = RegexpTokenizer(r'\\w+')\n",
        "    text = tokenizer.tokenize(text)\n",
        "    text = \" \".join(text)\n",
        "    return text"
      ],
      "metadata": {
        "id": "oR6VSBEsUID7"
      },
      "execution_count": 78,
      "outputs": []
    },
    {
      "cell_type": "code",
      "source": [
        "df['name_pre'] = df['name'].apply(make_lower_case)\n",
        "df['name_pre'] = df['name'].apply(remove_stop_words)\n",
        "df['name_pre'] = df['name'].apply(remove_punctuation)\n",
        "df['name_pre'] = df['name'].apply(stem_words)\n"
      ],
      "metadata": {
        "id": "3k9ayymtYHYs"
      },
      "execution_count": 79,
      "outputs": []
    },
    {
      "cell_type": "code",
      "source": [
        "df['main accords_pre'] = df['main accords_pre'].astype(str)\n",
        "\n",
        "df['main accords_pre_2'] = df['main accords_pre'].apply(make_lower_case)\n",
        "df['main accords_pre_2'] = df['main accords_pre'].apply(remove_stop_words)\n",
        "df['main accords_pre_2'] = df['main accords_pre'].apply(remove_punctuation)\n",
        "df['main accords_pre_2'] = df['main accords_pre'].apply(stem_words)\n"
      ],
      "metadata": {
        "id": "AX2_ldw3VFCA"
      },
      "execution_count": 80,
      "outputs": []
    },
    {
      "cell_type": "code",
      "source": [
        "df['top notes_pre'] = df['top notes'].apply(stem_words)\n",
        "df['top notes_pre'] = df['top notes'].apply(make_lower_case)\n",
        "df['top notes_pre'] = df['top notes'].apply(remove_stop_words)\n",
        "df['top notes_pre'] = df['top notes'].apply(remove_punctuation)\n"
      ],
      "metadata": {
        "id": "ZiJ6wl-pVJMX"
      },
      "execution_count": 81,
      "outputs": []
    },
    {
      "cell_type": "code",
      "source": [
        "df['middle notes_pre'] = df['middle notes'].apply(stem_words)\n",
        "df['middle notes_pre'] = df['middle notes'].apply(make_lower_case)\n",
        "df['middle notes_pre'] = df['middle notes'].apply(remove_stop_words)\n",
        "df['middle notes_pre'] = df['middle notes'].apply(remove_punctuation)\n"
      ],
      "metadata": {
        "id": "fewa8aobVQqG"
      },
      "execution_count": 82,
      "outputs": []
    },
    {
      "cell_type": "code",
      "source": [
        "df['base notes_pre'] = df['base notes'].apply(stem_words)\n",
        "df['base notes_pre'] = df['base notes'].apply(make_lower_case)\n",
        "df['base notes_pre'] = df['base notes'].apply(remove_stop_words)\n",
        "df['base notes_pre'] = df['base notes'].apply(remove_punctuation)\n"
      ],
      "metadata": {
        "id": "5dRgpGnDXVZ3"
      },
      "execution_count": 83,
      "outputs": []
    },
    {
      "cell_type": "code",
      "source": [
        "df_nltk = df[['name_pre', 'main accords_pre_2',\n",
        "              'top notes_pre','middle notes_pre','base notes_pre']]"
      ],
      "metadata": {
        "id": "SVrfJSEmXiDY"
      },
      "execution_count": 84,
      "outputs": []
    },
    {
      "cell_type": "markdown",
      "source": [
        "# Imbedding"
      ],
      "metadata": {
        "id": "hPH-OSQMX0C7"
      }
    },
    {
      "cell_type": "code",
      "source": [
        "df_nltk['full_document'] = df_nltk['name_pre'] + ' ' \\\n",
        "+ df_nltk['main accords_pre_2'] + ' ' \\\n",
        "+ df_nltk['top notes_pre'] + ' ' \\\n",
        "+ df_nltk['middle notes_pre'] + ' ' \\\n",
        "+ df_nltk['base notes_pre']\n"
      ],
      "metadata": {
        "colab": {
          "base_uri": "https://localhost:8080/"
        },
        "id": "uu25CzQJaUuF",
        "outputId": "43b10c75-2811-472a-9d50-02f8e25c4e02"
      },
      "execution_count": 85,
      "outputs": [
        {
          "output_type": "stream",
          "name": "stderr",
          "text": [
            "<ipython-input-85-4bc16b9fbc4b>:1: SettingWithCopyWarning: \n",
            "A value is trying to be set on a copy of a slice from a DataFrame.\n",
            "Try using .loc[row_indexer,col_indexer] = value instead\n",
            "\n",
            "See the caveats in the documentation: https://pandas.pydata.org/pandas-docs/stable/user_guide/indexing.html#returning-a-view-versus-a-copy\n",
            "  df_nltk['full_document'] = df_nltk['name_pre'] + ' ' \\\n"
          ]
        }
      ]
    },
    {
      "cell_type": "markdown",
      "source": [
        "## Word2vec을 통한 연관단어 임베딩"
      ],
      "metadata": {
        "id": "6i0vOTr2ZUK4"
      }
    },
    {
      "cell_type": "code",
      "source": [
        "from gensim.models import Word2Vec\n",
        "import numpy as np\n",
        "\n",
        "# Word2Vec 모델 학습\n",
        "sentences = [text.split() for text in df_nltk['full_document']]\n",
        "\n",
        "model = Word2Vec(sentences, vector_size=100, window=5, min_count=1, workers=4)\n",
        "\n",
        "# 단어 임베딩 추출\n",
        "word_vectors = model.wv\n",
        "\n",
        "# 임베딩 벡터 추출\n",
        "X = []\n",
        "for sentence in sentences:\n",
        "    embedding = []\n",
        "    for word in sentence:\n",
        "        embedding.append(word_vectors.get_vector(word))\n",
        "    # 각 문장에 대해 단어 임베딩의 평균 계산\n",
        "    average_embedding = np.mean(embedding, axis=0)\n",
        "    X.append(average_embedding)\n"
      ],
      "metadata": {
        "id": "pk6cBdhVbjtu"
      },
      "execution_count": 92,
      "outputs": []
    },
    {
      "cell_type": "markdown",
      "source": [
        "# Clustering"
      ],
      "metadata": {
        "id": "utjTzaIee-aV"
      }
    },
    {
      "cell_type": "markdown",
      "source": [
        "## 최적의 K를 위한 Elbow Point 확인"
      ],
      "metadata": {
        "id": "1VAhRNclfEf7"
      }
    },
    {
      "cell_type": "code",
      "source": [
        "from sklearn.cluster import KMeans\n",
        "from sklearn.metrics import silhouette_score\n",
        "import matplotlib.pyplot as plt"
      ],
      "metadata": {
        "id": "uHoqLuB1dSKQ"
      },
      "execution_count": 87,
      "outputs": []
    },
    {
      "cell_type": "code",
      "source": [
        "# 군집 개수 범위 설정\n",
        "min_k = 2  # 최소 군집 개수\n",
        "max_k = 10  # 최대 군집 개수\n",
        "\n",
        "# 군집 내 제곱 합 기록\n",
        "inertia_values = []\n",
        "\n",
        "for k in range(min_k, max_k + 1):\n",
        "    # K-means 군집화\n",
        "    kmeans = KMeans(n_clusters=k)\n",
        "    kmeans.fit(X)\n",
        "    inertia_values.append(kmeans.inertia_)\n",
        "\n",
        "# 군집 개수에 따른 군집 내 제곱 합 시각화\n",
        "plt.plot(range(min_k, max_k + 1), inertia_values, marker='o')\n",
        "plt.xlabel('Number of clusters')\n",
        "plt.ylabel('Inertia')\n",
        "plt.title('Elbow Method for optimal K')\n",
        "plt.show()\n"
      ],
      "metadata": {
        "colab": {
          "base_uri": "https://localhost:8080/",
          "height": 813
        },
        "id": "7dU2WQyPbryU",
        "outputId": "f59ea482-e2f5-43bb-d4b0-73b08bb3164b"
      },
      "execution_count": 93,
      "outputs": [
        {
          "output_type": "stream",
          "name": "stderr",
          "text": [
            "/usr/local/lib/python3.10/dist-packages/sklearn/cluster/_kmeans.py:870: FutureWarning: The default value of `n_init` will change from 10 to 'auto' in 1.4. Set the value of `n_init` explicitly to suppress the warning\n",
            "  warnings.warn(\n",
            "/usr/local/lib/python3.10/dist-packages/sklearn/cluster/_kmeans.py:870: FutureWarning: The default value of `n_init` will change from 10 to 'auto' in 1.4. Set the value of `n_init` explicitly to suppress the warning\n",
            "  warnings.warn(\n",
            "/usr/local/lib/python3.10/dist-packages/sklearn/cluster/_kmeans.py:870: FutureWarning: The default value of `n_init` will change from 10 to 'auto' in 1.4. Set the value of `n_init` explicitly to suppress the warning\n",
            "  warnings.warn(\n",
            "/usr/local/lib/python3.10/dist-packages/sklearn/cluster/_kmeans.py:870: FutureWarning: The default value of `n_init` will change from 10 to 'auto' in 1.4. Set the value of `n_init` explicitly to suppress the warning\n",
            "  warnings.warn(\n",
            "/usr/local/lib/python3.10/dist-packages/sklearn/cluster/_kmeans.py:870: FutureWarning: The default value of `n_init` will change from 10 to 'auto' in 1.4. Set the value of `n_init` explicitly to suppress the warning\n",
            "  warnings.warn(\n",
            "/usr/local/lib/python3.10/dist-packages/sklearn/cluster/_kmeans.py:870: FutureWarning: The default value of `n_init` will change from 10 to 'auto' in 1.4. Set the value of `n_init` explicitly to suppress the warning\n",
            "  warnings.warn(\n",
            "/usr/local/lib/python3.10/dist-packages/sklearn/cluster/_kmeans.py:870: FutureWarning: The default value of `n_init` will change from 10 to 'auto' in 1.4. Set the value of `n_init` explicitly to suppress the warning\n",
            "  warnings.warn(\n",
            "/usr/local/lib/python3.10/dist-packages/sklearn/cluster/_kmeans.py:870: FutureWarning: The default value of `n_init` will change from 10 to 'auto' in 1.4. Set the value of `n_init` explicitly to suppress the warning\n",
            "  warnings.warn(\n",
            "/usr/local/lib/python3.10/dist-packages/sklearn/cluster/_kmeans.py:870: FutureWarning: The default value of `n_init` will change from 10 to 'auto' in 1.4. Set the value of `n_init` explicitly to suppress the warning\n",
            "  warnings.warn(\n"
          ]
        },
        {
          "output_type": "display_data",
          "data": {
            "text/plain": [
              "<Figure size 640x480 with 1 Axes>"
            ],
            "image/png": "[encoded data removed]"
          },
          "metadata": {}
        }
      ]
    },
    {
      "cell_type": "markdown",
      "source": [
        "X축에 따라 Y축의 감소율이 크게 작아지는 4를 K로 설정\n"
      ],
      "metadata": {
        "id": "q2zYQDt5eOsZ"
      }
    },
    {
      "cell_type": "markdown",
      "source": [
        "## K-means Clustering"
      ],
      "metadata": {
        "id": "wO2BDjpzejUQ"
      }
    },
    {
      "cell_type": "code",
      "source": [
        "kmeans = KMeans(n_clusters=4)\n",
        "kmeans.fit(X)\n",
        "clusters = kmeans.labels_"
      ],
      "metadata": {
        "colab": {
          "base_uri": "https://localhost:8080/"
        },
        "id": "eSSfj-o5fZFA",
        "outputId": "cd0a6886-5840-4059-fa37-ba59ecf8dc1f"
      },
      "execution_count": 94,
      "outputs": [
        {
          "output_type": "stream",
          "name": "stderr",
          "text": [
            "/usr/local/lib/python3.10/dist-packages/sklearn/cluster/_kmeans.py:870: FutureWarning: The default value of `n_init` will change from 10 to 'auto' in 1.4. Set the value of `n_init` explicitly to suppress the warning\n",
            "  warnings.warn(\n"
          ]
        }
      ]
    },
    {
      "cell_type": "code",
      "source": [
        "#원본 df에 레이블링\n",
        "df['Cluster'] = clusters"
      ],
      "metadata": {
        "id": "QXwMUsQvftpQ"
      },
      "execution_count": 95,
      "outputs": []
    },
    {
      "cell_type": "code",
      "source": [
        "#원본 컬럼 및 군집 레이블 따로 추출\n",
        "df_save = df[['Cluster','name','main accords', 'description', 'top notes', 'middle notes','base notes']]"
      ],
      "metadata": {
        "id": "av5InsGukBIW"
      },
      "execution_count": 98,
      "outputs": []
    },
    {
      "cell_type": "code",
      "source": [
        "#같은 cluster 값끼리 볼 수 있도록 정렬\n",
        "df_sorted = df_save.sort_values(by='Cluster')"
      ],
      "metadata": {
        "id": "SP6G-x5YgtDD"
      },
      "execution_count": 99,
      "outputs": []
    },
    {
      "cell_type": "code",
      "source": [
        "df_sorted.to_csv('Ver2(Word2vec)_Test_result_clustering.csv')"
      ],
      "metadata": {
        "id": "w_YJzgv-joug"
      },
      "execution_count": 100,
      "outputs": []
    },
    {
      "cell_type": "code",
      "source": [],
      "metadata": {
        "id": "ejr9KUvbkll0"
      },
      "execution_count": null,
      "outputs": []
    }
  ]
}