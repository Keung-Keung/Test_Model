{
  "cells": [
    {
      "cell_type": "code",
      "execution_count": 17,
      "metadata": {
        "id": "P7WjFoRAAGkS"
      },
      "outputs": [],
      "source": [
        "import pandas as pd\n",
        "import math\n",
        "import ast"
      ]
    },
    {
      "cell_type": "code",
      "source": [
        "from google.colab import drive\n",
        "import pandas as pd\n",
        "\n",
        "# Google Drive 마운트\n",
        "drive.mount('/content/drive')\n"
      ],
      "metadata": {
        "id": "poAE3qfbA01N",
        "colab": {
          "base_uri": "https://localhost:8080/"
        },
        "outputId": "75bbd1c7-f51a-4d1a-e6a7-79432ecb8657"
      },
      "execution_count": 18,
      "outputs": [
        {
          "output_type": "stream",
          "name": "stdout",
          "text": [
            "Drive already mounted at /content/drive; to attempt to forcibly remount, call drive.mount(\"/content/drive\", force_remount=True).\n"
          ]
        }
      ]
    },
    {
      "cell_type": "code",
      "source": [
        "\n",
        "# 파일 경로\n",
        "file_path = '/content/drive/My Drive/Colab Notebooks/CJ_Hackathon/Data/'\n",
        "\n",
        "#로드\n",
        "df = pd.read_csv(file_path + '(test)perfume_data_combined.csv')\n"
      ],
      "metadata": {
        "id": "73cTb8enAl9T"
      },
      "execution_count": 19,
      "outputs": []
    },
    {
      "cell_type": "code",
      "execution_count": 20,
      "metadata": {
        "colab": {
          "base_uri": "https://localhost:8080/"
        },
        "id": "rcYcfKvkAGkU",
        "outputId": "1671a30b-a80f-4a50-d533-8181bf65525a"
      },
      "outputs": [
        {
          "output_type": "execute_result",
          "data": {
            "text/plain": [
              "Index(['name', 'company', 'image', 'for_gender', 'rating', 'number_votes',\n",
              "       'main accords', 'description', 'top notes', 'middle notes',\n",
              "       'base notes', 'longevity', 'sillage', 'gender_vote', 'price value'],\n",
              "      dtype='object')"
            ]
          },
          "metadata": {},
          "execution_count": 20
        }
      ],
      "source": [
        "df.columns"
      ]
    },
    {
      "cell_type": "code",
      "execution_count": 21,
      "metadata": {
        "id": "NdFzVVA1AGkU"
      },
      "outputs": [],
      "source": [
        "df = df[['name','main accords', 'description', 'top notes', 'middle notes','base notes']]"
      ]
    },
    {
      "cell_type": "code",
      "execution_count": 22,
      "metadata": {
        "colab": {
          "base_uri": "https://localhost:8080/",
          "height": 397
        },
        "id": "lfWoQSYSAGkV",
        "outputId": "41970926-c595-4092-ad8e-bedc498ede3b"
      },
      "outputs": [
        {
          "output_type": "execute_result",
          "data": {
            "text/plain": [
              "                    name                                       main accords  \\\n",
              "0          Angels' Share  {'woody': 100.0, 'sweet': 92.6987, 'warm spicy...   \n",
              "1                 My Way  {'white floral': 100.0, 'citrus': 60.4322, 'tu...   \n",
              "2          Libre Intense  {'vanilla': 100.0, 'aromatic': 71.4216, 'sweet...   \n",
              "3        Dior Homme 2020  {'woody': 100.0, 'musky': 72.7229, 'amber': 53...   \n",
              "4  Acqua di Giò Profondo  {'aromatic': 100.0, 'marine': 93.2493, 'citrus...   \n",
              "\n",
              "                                         description  \\\n",
              "0  Angels' Share by By Kilian is a Oriental Vanil...   \n",
              "1  My Way by Giorgio Armani is a Floral fragrance...   \n",
              "2  Libre Intense by Yves Saint Laurent is a Orien...   \n",
              "3  Dior Homme 2020 by Christian Dior is a Woody f...   \n",
              "4  Acqua di Giò Profondo by Giorgio Armani is a A...   \n",
              "\n",
              "                                           top notes  \\\n",
              "0                                         ['Cognac']   \n",
              "1                     ['Orange Blossom', 'Bergamot']   \n",
              "2        ['Lavender', 'Mandarin Orange', 'Bergamot']   \n",
              "3               ['Bergamot', 'Pink Pepper', 'elemi']   \n",
              "4  ['Sea Notes', 'Aquozone', 'Bergamot', 'Green M...   \n",
              "\n",
              "                                        middle notes  \\\n",
              "0                  ['Cinnamon', 'Tonka Bean', 'Oak']   \n",
              "1                     ['Tuberose', 'Indian Jasmine']   \n",
              "2  ['Lavender', 'Tunisian Orange Blossom', 'Jasmi...   \n",
              "3      ['Cashmere Wood', 'Atlas Cedar', 'Patchouli']   \n",
              "4  ['Rosemary', 'Cypress', 'Lavender', 'Mastic or...   \n",
              "\n",
              "                                          base notes  \n",
              "0               ['Praline', 'Vanilla', 'Sandalwood']  \n",
              "1  ['White Musk', 'Madagascar Vanilla', 'Virginia...  \n",
              "2  ['Madagascar Vanilla', 'Tonka Bean', 'Ambergri...  \n",
              "3   ['Iso E Super', 'Haitian Vetiver', 'White Musk']  \n",
              "4    ['Mineral notes', 'Musk', 'Patchouli', 'Amber']  "
            ],
            "text/html": [
              "\n",
              "  <div id=\"df-9f15d588-545f-47bd-93d5-69dc7e853fcf\" class=\"colab-df-container\">\n",
              "    <div>\n",
              "<style scoped>\n",
              "    .dataframe tbody tr th:only-of-type {\n",
              "        vertical-align: middle;\n",
              "    }\n",
              "\n",
              "    .dataframe tbody tr th {\n",
              "        vertical-align: top;\n",
              "    }\n",
              "\n",
              "    .dataframe thead th {\n",
              "        text-align: right;\n",
              "    }\n",
              "</style>\n",
              "<table border=\"1\" class=\"dataframe\">\n",
              "  <thead>\n",
              "    <tr style=\"text-align: right;\">\n",
              "      <th></th>\n",
              "      <th>name</th>\n",
              "      <th>main accords</th>\n",
              "      <th>description</th>\n",
              "      <th>top notes</th>\n",
              "      <th>middle notes</th>\n",
              "      <th>base notes</th>\n",
              "    </tr>\n",
              "  </thead>\n",
              "  <tbody>\n",
              "    <tr>\n",
              "      <th>0</th>\n",
              "      <td>Angels' Share</td>\n",
              "      <td>{'woody': 100.0, 'sweet': 92.6987, 'warm spicy...</td>\n",
              "      <td>Angels' Share by By Kilian is a Oriental Vanil...</td>\n",
              "      <td>['Cognac']</td>\n",
              "      <td>['Cinnamon', 'Tonka Bean', 'Oak']</td>\n",
              "      <td>['Praline', 'Vanilla', 'Sandalwood']</td>\n",
              "    </tr>\n",
              "    <tr>\n",
              "      <th>1</th>\n",
              "      <td>My Way</td>\n",
              "      <td>{'white floral': 100.0, 'citrus': 60.4322, 'tu...</td>\n",
              "      <td>My Way by Giorgio Armani is a Floral fragrance...</td>\n",
              "      <td>['Orange Blossom', 'Bergamot']</td>\n",
              "      <td>['Tuberose', 'Indian Jasmine']</td>\n",
              "      <td>['White Musk', 'Madagascar Vanilla', 'Virginia...</td>\n",
              "    </tr>\n",
              "    <tr>\n",
              "      <th>2</th>\n",
              "      <td>Libre Intense</td>\n",
              "      <td>{'vanilla': 100.0, 'aromatic': 71.4216, 'sweet...</td>\n",
              "      <td>Libre Intense by Yves Saint Laurent is a Orien...</td>\n",
              "      <td>['Lavender', 'Mandarin Orange', 'Bergamot']</td>\n",
              "      <td>['Lavender', 'Tunisian Orange Blossom', 'Jasmi...</td>\n",
              "      <td>['Madagascar Vanilla', 'Tonka Bean', 'Ambergri...</td>\n",
              "    </tr>\n",
              "    <tr>\n",
              "      <th>3</th>\n",
              "      <td>Dior Homme 2020</td>\n",
              "      <td>{'woody': 100.0, 'musky': 72.7229, 'amber': 53...</td>\n",
              "      <td>Dior Homme 2020 by Christian Dior is a Woody f...</td>\n",
              "      <td>['Bergamot', 'Pink Pepper', 'elemi']</td>\n",
              "      <td>['Cashmere Wood', 'Atlas Cedar', 'Patchouli']</td>\n",
              "      <td>['Iso E Super', 'Haitian Vetiver', 'White Musk']</td>\n",
              "    </tr>\n",
              "    <tr>\n",
              "      <th>4</th>\n",
              "      <td>Acqua di Giò Profondo</td>\n",
              "      <td>{'aromatic': 100.0, 'marine': 93.2493, 'citrus...</td>\n",
              "      <td>Acqua di Giò Profondo by Giorgio Armani is a A...</td>\n",
              "      <td>['Sea Notes', 'Aquozone', 'Bergamot', 'Green M...</td>\n",
              "      <td>['Rosemary', 'Cypress', 'Lavender', 'Mastic or...</td>\n",
              "      <td>['Mineral notes', 'Musk', 'Patchouli', 'Amber']</td>\n",
              "    </tr>\n",
              "  </tbody>\n",
              "</table>\n",
              "</div>\n",
              "    <div class=\"colab-df-buttons\">\n",
              "\n",
              "  <div class=\"colab-df-container\">\n",
              "    <button class=\"colab-df-convert\" onclick=\"convertToInteractive('df-9f15d588-545f-47bd-93d5-69dc7e853fcf')\"\n",
              "            title=\"Convert this dataframe to an interactive table.\"\n",
              "            style=\"display:none;\">\n",
              "\n",
              "  <svg xmlns=\"http://www.w3.org/2000/svg\" height=\"24px\" viewBox=\"0 -960 960 960\">\n",
              "    <path d=\"M120-120v-720h720v720H120Zm60-500h600v-160H180v160Zm220 220h160v-160H400v160Zm0 220h160v-160H400v160ZM180-400h160v-160H180v160Zm440 0h160v-160H620v160ZM180-180h160v-160H180v160Zm440 0h160v-160H620v160Z\"/>\n",
              "  </svg>\n",
              "    </button>\n",
              "\n",
              "  <style>\n",
              "    .colab-df-container {\n",
              "      display:flex;\n",
              "      gap: 12px;\n",
              "    }\n",
              "\n",
              "    .colab-df-convert {\n",
              "      background-color: #E8F0FE;\n",
              "      border: none;\n",
              "      border-radius: 50%;\n",
              "      cursor: pointer;\n",
              "      display: none;\n",
              "      fill: #1967D2;\n",
              "      height: 32px;\n",
              "      padding: 0 0 0 0;\n",
              "      width: 32px;\n",
              "    }\n",
              "\n",
              "    .colab-df-convert:hover {\n",
              "      background-color: #E2EBFA;\n",
              "      box-shadow: 0px 1px 2px rgba(60, 64, 67, 0.3), 0px 1px 3px 1px rgba(60, 64, 67, 0.15);\n",
              "      fill: #174EA6;\n",
              "    }\n",
              "\n",
              "    .colab-df-buttons div {\n",
              "      margin-bottom: 4px;\n",
              "    }\n",
              "\n",
              "    [theme=dark] .colab-df-convert {\n",
              "      background-color: #3B4455;\n",
              "      fill: #D2E3FC;\n",
              "    }\n",
              "\n",
              "    [theme=dark] .colab-df-convert:hover {\n",
              "      background-color: #434B5C;\n",
              "      box-shadow: 0px 1px 3px 1px rgba(0, 0, 0, 0.15);\n",
              "      filter: drop-shadow(0px 1px 2px rgba(0, 0, 0, 0.3));\n",
              "      fill: #FFFFFF;\n",
              "    }\n",
              "  </style>\n",
              "\n",
              "    <script>\n",
              "      const buttonEl =\n",
              "        document.querySelector('#df-9f15d588-545f-47bd-93d5-69dc7e853fcf button.colab-df-convert');\n",
              "      buttonEl.style.display =\n",
              "        google.colab.kernel.accessAllowed ? 'block' : 'none';\n",
              "\n",
              "      async function convertToInteractive(key) {\n",
              "        const element = document.querySelector('#df-9f15d588-545f-47bd-93d5-69dc7e853fcf');\n",
              "        const dataTable =\n",
              "          await google.colab.kernel.invokeFunction('convertToInteractive',\n",
              "                                                    [key], {});\n",
              "        if (!dataTable) return;\n",
              "\n",
              "        const docLinkHtml = 'Like what you see? Visit the ' +\n",
              "          '<a target=\"_blank\" href=https://colab.research.google.com/notebooks/data_table.ipynb>data table notebook</a>'\n",
              "          + ' to learn more about interactive tables.';\n",
              "        element.innerHTML = '';\n",
              "        dataTable['output_type'] = 'display_data';\n",
              "        await google.colab.output.renderOutput(dataTable, element);\n",
              "        const docLink = document.createElement('div');\n",
              "        docLink.innerHTML = docLinkHtml;\n",
              "        element.appendChild(docLink);\n",
              "      }\n",
              "    </script>\n",
              "  </div>\n",
              "\n",
              "\n",
              "<div id=\"df-a8abae06-7fce-4c3b-8e41-f930d195ff62\">\n",
              "  <button class=\"colab-df-quickchart\" onclick=\"quickchart('df-a8abae06-7fce-4c3b-8e41-f930d195ff62')\"\n",
              "            title=\"Suggest charts.\"\n",
              "            style=\"display:none;\">\n",
              "\n",
              "<svg xmlns=\"http://www.w3.org/2000/svg\" height=\"24px\"viewBox=\"0 0 24 24\"\n",
              "     width=\"24px\">\n",
              "    <g>\n",
              "        <path d=\"M19 3H5c-1.1 0-2 .9-2 2v14c0 1.1.9 2 2 2h14c1.1 0 2-.9 2-2V5c0-1.1-.9-2-2-2zM9 17H7v-7h2v7zm4 0h-2V7h2v10zm4 0h-2v-4h2v4z\"/>\n",
              "    </g>\n",
              "</svg>\n",
              "  </button>\n",
              "\n",
              "<style>\n",
              "  .colab-df-quickchart {\n",
              "      --bg-color: #E8F0FE;\n",
              "      --fill-color: #1967D2;\n",
              "      --hover-bg-color: #E2EBFA;\n",
              "      --hover-fill-color: #174EA6;\n",
              "      --disabled-fill-color: #AAA;\n",
              "      --disabled-bg-color: #DDD;\n",
              "  }\n",
              "\n",
              "  [theme=dark] .colab-df-quickchart {\n",
              "      --bg-color: #3B4455;\n",
              "      --fill-color: #D2E3FC;\n",
              "      --hover-bg-color: #434B5C;\n",
              "      --hover-fill-color: #FFFFFF;\n",
              "      --disabled-bg-color: #3B4455;\n",
              "      --disabled-fill-color: #666;\n",
              "  }\n",
              "\n",
              "  .colab-df-quickchart {\n",
              "    background-color: var(--bg-color);\n",
              "    border: none;\n",
              "    border-radius: 50%;\n",
              "    cursor: pointer;\n",
              "    display: none;\n",
              "    fill: var(--fill-color);\n",
              "    height: 32px;\n",
              "    padding: 0;\n",
              "    width: 32px;\n",
              "  }\n",
              "\n",
              "  .colab-df-quickchart:hover {\n",
              "    background-color: var(--hover-bg-color);\n",
              "    box-shadow: 0 1px 2px rgba(60, 64, 67, 0.3), 0 1px 3px 1px rgba(60, 64, 67, 0.15);\n",
              "    fill: var(--button-hover-fill-color);\n",
              "  }\n",
              "\n",
              "  .colab-df-quickchart-complete:disabled,\n",
              "  .colab-df-quickchart-complete:disabled:hover {\n",
              "    background-color: var(--disabled-bg-color);\n",
              "    fill: var(--disabled-fill-color);\n",
              "    box-shadow: none;\n",
              "  }\n",
              "\n",
              "  .colab-df-spinner {\n",
              "    border: 2px solid var(--fill-color);\n",
              "    border-color: transparent;\n",
              "    border-bottom-color: var(--fill-color);\n",
              "    animation:\n",
              "      spin 1s steps(1) infinite;\n",
              "  }\n",
              "\n",
              "  @keyframes spin {\n",
              "    0% {\n",
              "      border-color: transparent;\n",
              "      border-bottom-color: var(--fill-color);\n",
              "      border-left-color: var(--fill-color);\n",
              "    }\n",
              "    20% {\n",
              "      border-color: transparent;\n",
              "      border-left-color: var(--fill-color);\n",
              "      border-top-color: var(--fill-color);\n",
              "    }\n",
              "    30% {\n",
              "      border-color: transparent;\n",
              "      border-left-color: var(--fill-color);\n",
              "      border-top-color: var(--fill-color);\n",
              "      border-right-color: var(--fill-color);\n",
              "    }\n",
              "    40% {\n",
              "      border-color: transparent;\n",
              "      border-right-color: var(--fill-color);\n",
              "      border-top-color: var(--fill-color);\n",
              "    }\n",
              "    60% {\n",
              "      border-color: transparent;\n",
              "      border-right-color: var(--fill-color);\n",
              "    }\n",
              "    80% {\n",
              "      border-color: transparent;\n",
              "      border-right-color: var(--fill-color);\n",
              "      border-bottom-color: var(--fill-color);\n",
              "    }\n",
              "    90% {\n",
              "      border-color: transparent;\n",
              "      border-bottom-color: var(--fill-color);\n",
              "    }\n",
              "  }\n",
              "</style>\n",
              "\n",
              "  <script>\n",
              "    async function quickchart(key) {\n",
              "      const quickchartButtonEl =\n",
              "        document.querySelector('#' + key + ' button');\n",
              "      quickchartButtonEl.disabled = true;  // To prevent multiple clicks.\n",
              "      quickchartButtonEl.classList.add('colab-df-spinner');\n",
              "      try {\n",
              "        const charts = await google.colab.kernel.invokeFunction(\n",
              "            'suggestCharts', [key], {});\n",
              "      } catch (error) {\n",
              "        console.error('Error during call to suggestCharts:', error);\n",
              "      }\n",
              "      quickchartButtonEl.classList.remove('colab-df-spinner');\n",
              "      quickchartButtonEl.classList.add('colab-df-quickchart-complete');\n",
              "    }\n",
              "    (() => {\n",
              "      let quickchartButtonEl =\n",
              "        document.querySelector('#df-a8abae06-7fce-4c3b-8e41-f930d195ff62 button');\n",
              "      quickchartButtonEl.style.display =\n",
              "        google.colab.kernel.accessAllowed ? 'block' : 'none';\n",
              "    })();\n",
              "  </script>\n",
              "</div>\n",
              "    </div>\n",
              "  </div>\n"
            ]
          },
          "metadata": {},
          "execution_count": 22
        }
      ],
      "source": [
        "df.head()"
      ]
    },
    {
      "cell_type": "markdown",
      "metadata": {
        "id": "YUZcOdW0AGkV"
      },
      "source": [
        "'description' 컬럼 전처리"
      ]
    },
    {
      "cell_type": "markdown",
      "source": [],
      "metadata": {
        "id": "y9axQdj41pOr"
      }
    },
    {
      "cell_type": "code",
      "execution_count": 23,
      "metadata": {
        "colab": {
          "base_uri": "https://localhost:8080/",
          "height": 212
        },
        "id": "9GFdDVeuAGkW",
        "outputId": "32f73df9-a861-400c-f5b2-be9686f5eb18"
      },
      "outputs": [
        {
          "output_type": "stream",
          "name": "stderr",
          "text": [
            "<ipython-input-23-a8de1df2d078>:2: SettingWithCopyWarning: \n",
            "A value is trying to be set on a copy of a slice from a DataFrame.\n",
            "Try using .loc[row_indexer,col_indexer] = value instead\n",
            "\n",
            "See the caveats in the documentation: https://pandas.pydata.org/pandas-docs/stable/user_guide/indexing.html#returning-a-view-versus-a-copy\n",
            "  df['description'] = df['description'].str.replace('Read about this perfume.*', '', regex=True)\n"
          ]
        },
        {
          "output_type": "execute_result",
          "data": {
            "text/plain": [
              "\"Angels' Share by By Kilian is a Oriental Vanilla fragrance for women and men. This is a new fragrance. Angels' Share was launched in 2020. The nose behind this fragrance is Benoist Lapouza. Top note is Cognac; middle notes are Cinnamon, Tonka Bean and Oak; base notes are Praline, Vanilla and Sandalwood.  \""
            ],
            "application/vnd.google.colaboratory.intrinsic+json": {
              "type": "string"
            }
          },
          "metadata": {},
          "execution_count": 23
        }
      ],
      "source": [
        "#불필요 단어 제거\n",
        "df['description'] = df['description'].str.replace('Read about this perfume.*', '', regex=True)\n",
        "\n",
        "df['description'][0]"
      ]
    },
    {
      "cell_type": "markdown",
      "metadata": {
        "id": "HoH2MsevAGkW"
      },
      "source": [
        "'main accords'컬럼 전처리"
      ]
    },
    {
      "cell_type": "code",
      "execution_count": 24,
      "metadata": {
        "colab": {
          "base_uri": "https://localhost:8080/",
          "height": 539
        },
        "id": "sryog7agAGkX",
        "outputId": "d5283d93-9b0f-421b-f1d6-56081bda2d96"
      },
      "outputs": [
        {
          "output_type": "stream",
          "name": "stderr",
          "text": [
            "<ipython-input-24-6ccd211909e5>:19: SettingWithCopyWarning: \n",
            "A value is trying to be set on a copy of a slice from a DataFrame.\n",
            "Try using .loc[row_indexer,col_indexer] = value instead\n",
            "\n",
            "See the caveats in the documentation: https://pandas.pydata.org/pandas-docs/stable/user_guide/indexing.html#returning-a-view-versus-a-copy\n",
            "  df['main accords'] = df['main accords'].apply(process_accords)\n"
          ]
        },
        {
          "output_type": "execute_result",
          "data": {
            "text/plain": [
              "                    name                                       main accords  \\\n",
              "0          Angels' Share  [woody, woody, woody, sweet, sweet, sweet, war...   \n",
              "1                 My Way  [white floral, white floral, white floral, cit...   \n",
              "2          Libre Intense  [vanilla, vanilla, vanilla, aromatic, aromatic...   \n",
              "3        Dior Homme 2020  [woody, woody, woody, musky, musky, amber, amb...   \n",
              "4  Acqua di Giò Profondo  [aromatic, aromatic, aromatic, marine, marine,...   \n",
              "\n",
              "                                         description  \\\n",
              "0  Angels' Share by By Kilian is a Oriental Vanil...   \n",
              "1  My Way by Giorgio Armani is a Floral fragrance...   \n",
              "2  Libre Intense by Yves Saint Laurent is a Orien...   \n",
              "3  Dior Homme 2020 by Christian Dior is a Woody f...   \n",
              "4  Acqua di Giò Profondo by Giorgio Armani is a A...   \n",
              "\n",
              "                                           top notes  \\\n",
              "0                                         ['Cognac']   \n",
              "1                     ['Orange Blossom', 'Bergamot']   \n",
              "2        ['Lavender', 'Mandarin Orange', 'Bergamot']   \n",
              "3               ['Bergamot', 'Pink Pepper', 'elemi']   \n",
              "4  ['Sea Notes', 'Aquozone', 'Bergamot', 'Green M...   \n",
              "\n",
              "                                        middle notes  \\\n",
              "0                  ['Cinnamon', 'Tonka Bean', 'Oak']   \n",
              "1                     ['Tuberose', 'Indian Jasmine']   \n",
              "2  ['Lavender', 'Tunisian Orange Blossom', 'Jasmi...   \n",
              "3      ['Cashmere Wood', 'Atlas Cedar', 'Patchouli']   \n",
              "4  ['Rosemary', 'Cypress', 'Lavender', 'Mastic or...   \n",
              "\n",
              "                                          base notes  \n",
              "0               ['Praline', 'Vanilla', 'Sandalwood']  \n",
              "1  ['White Musk', 'Madagascar Vanilla', 'Virginia...  \n",
              "2  ['Madagascar Vanilla', 'Tonka Bean', 'Ambergri...  \n",
              "3   ['Iso E Super', 'Haitian Vetiver', 'White Musk']  \n",
              "4    ['Mineral notes', 'Musk', 'Patchouli', 'Amber']  "
            ],
            "text/html": [
              "\n",
              "  <div id=\"df-4cc614bc-725f-424e-81e6-dcaf4328132a\" class=\"colab-df-container\">\n",
              "    <div>\n",
              "<style scoped>\n",
              "    .dataframe tbody tr th:only-of-type {\n",
              "        vertical-align: middle;\n",
              "    }\n",
              "\n",
              "    .dataframe tbody tr th {\n",
              "        vertical-align: top;\n",
              "    }\n",
              "\n",
              "    .dataframe thead th {\n",
              "        text-align: right;\n",
              "    }\n",
              "</style>\n",
              "<table border=\"1\" class=\"dataframe\">\n",
              "  <thead>\n",
              "    <tr style=\"text-align: right;\">\n",
              "      <th></th>\n",
              "      <th>name</th>\n",
              "      <th>main accords</th>\n",
              "      <th>description</th>\n",
              "      <th>top notes</th>\n",
              "      <th>middle notes</th>\n",
              "      <th>base notes</th>\n",
              "    </tr>\n",
              "  </thead>\n",
              "  <tbody>\n",
              "    <tr>\n",
              "      <th>0</th>\n",
              "      <td>Angels' Share</td>\n",
              "      <td>[woody, woody, woody, sweet, sweet, sweet, war...</td>\n",
              "      <td>Angels' Share by By Kilian is a Oriental Vanil...</td>\n",
              "      <td>['Cognac']</td>\n",
              "      <td>['Cinnamon', 'Tonka Bean', 'Oak']</td>\n",
              "      <td>['Praline', 'Vanilla', 'Sandalwood']</td>\n",
              "    </tr>\n",
              "    <tr>\n",
              "      <th>1</th>\n",
              "      <td>My Way</td>\n",
              "      <td>[white floral, white floral, white floral, cit...</td>\n",
              "      <td>My Way by Giorgio Armani is a Floral fragrance...</td>\n",
              "      <td>['Orange Blossom', 'Bergamot']</td>\n",
              "      <td>['Tuberose', 'Indian Jasmine']</td>\n",
              "      <td>['White Musk', 'Madagascar Vanilla', 'Virginia...</td>\n",
              "    </tr>\n",
              "    <tr>\n",
              "      <th>2</th>\n",
              "      <td>Libre Intense</td>\n",
              "      <td>[vanilla, vanilla, vanilla, aromatic, aromatic...</td>\n",
              "      <td>Libre Intense by Yves Saint Laurent is a Orien...</td>\n",
              "      <td>['Lavender', 'Mandarin Orange', 'Bergamot']</td>\n",
              "      <td>['Lavender', 'Tunisian Orange Blossom', 'Jasmi...</td>\n",
              "      <td>['Madagascar Vanilla', 'Tonka Bean', 'Ambergri...</td>\n",
              "    </tr>\n",
              "    <tr>\n",
              "      <th>3</th>\n",
              "      <td>Dior Homme 2020</td>\n",
              "      <td>[woody, woody, woody, musky, musky, amber, amb...</td>\n",
              "      <td>Dior Homme 2020 by Christian Dior is a Woody f...</td>\n",
              "      <td>['Bergamot', 'Pink Pepper', 'elemi']</td>\n",
              "      <td>['Cashmere Wood', 'Atlas Cedar', 'Patchouli']</td>\n",
              "      <td>['Iso E Super', 'Haitian Vetiver', 'White Musk']</td>\n",
              "    </tr>\n",
              "    <tr>\n",
              "      <th>4</th>\n",
              "      <td>Acqua di Giò Profondo</td>\n",
              "      <td>[aromatic, aromatic, aromatic, marine, marine,...</td>\n",
              "      <td>Acqua di Giò Profondo by Giorgio Armani is a A...</td>\n",
              "      <td>['Sea Notes', 'Aquozone', 'Bergamot', 'Green M...</td>\n",
              "      <td>['Rosemary', 'Cypress', 'Lavender', 'Mastic or...</td>\n",
              "      <td>['Mineral notes', 'Musk', 'Patchouli', 'Amber']</td>\n",
              "    </tr>\n",
              "  </tbody>\n",
              "</table>\n",
              "</div>\n",
              "    <div class=\"colab-df-buttons\">\n",
              "\n",
              "  <div class=\"colab-df-container\">\n",
              "    <button class=\"colab-df-convert\" onclick=\"convertToInteractive('df-4cc614bc-725f-424e-81e6-dcaf4328132a')\"\n",
              "            title=\"Convert this dataframe to an interactive table.\"\n",
              "            style=\"display:none;\">\n",
              "\n",
              "  <svg xmlns=\"http://www.w3.org/2000/svg\" height=\"24px\" viewBox=\"0 -960 960 960\">\n",
              "    <path d=\"M120-120v-720h720v720H120Zm60-500h600v-160H180v160Zm220 220h160v-160H400v160Zm0 220h160v-160H400v160ZM180-400h160v-160H180v160Zm440 0h160v-160H620v160ZM180-180h160v-160H180v160Zm440 0h160v-160H620v160Z\"/>\n",
              "  </svg>\n",
              "    </button>\n",
              "\n",
              "  <style>\n",
              "    .colab-df-container {\n",
              "      display:flex;\n",
              "      gap: 12px;\n",
              "    }\n",
              "\n",
              "    .colab-df-convert {\n",
              "      background-color: #E8F0FE;\n",
              "      border: none;\n",
              "      border-radius: 50%;\n",
              "      cursor: pointer;\n",
              "      display: none;\n",
              "      fill: #1967D2;\n",
              "      height: 32px;\n",
              "      padding: 0 0 0 0;\n",
              "      width: 32px;\n",
              "    }\n",
              "\n",
              "    .colab-df-convert:hover {\n",
              "      background-color: #E2EBFA;\n",
              "      box-shadow: 0px 1px 2px rgba(60, 64, 67, 0.3), 0px 1px 3px 1px rgba(60, 64, 67, 0.15);\n",
              "      fill: #174EA6;\n",
              "    }\n",
              "\n",
              "    .colab-df-buttons div {\n",
              "      margin-bottom: 4px;\n",
              "    }\n",
              "\n",
              "    [theme=dark] .colab-df-convert {\n",
              "      background-color: #3B4455;\n",
              "      fill: #D2E3FC;\n",
              "    }\n",
              "\n",
              "    [theme=dark] .colab-df-convert:hover {\n",
              "      background-color: #434B5C;\n",
              "      box-shadow: 0px 1px 3px 1px rgba(0, 0, 0, 0.15);\n",
              "      filter: drop-shadow(0px 1px 2px rgba(0, 0, 0, 0.3));\n",
              "      fill: #FFFFFF;\n",
              "    }\n",
              "  </style>\n",
              "\n",
              "    <script>\n",
              "      const buttonEl =\n",
              "        document.querySelector('#df-4cc614bc-725f-424e-81e6-dcaf4328132a button.colab-df-convert');\n",
              "      buttonEl.style.display =\n",
              "        google.colab.kernel.accessAllowed ? 'block' : 'none';\n",
              "\n",
              "      async function convertToInteractive(key) {\n",
              "        const element = document.querySelector('#df-4cc614bc-725f-424e-81e6-dcaf4328132a');\n",
              "        const dataTable =\n",
              "          await google.colab.kernel.invokeFunction('convertToInteractive',\n",
              "                                                    [key], {});\n",
              "        if (!dataTable) return;\n",
              "\n",
              "        const docLinkHtml = 'Like what you see? Visit the ' +\n",
              "          '<a target=\"_blank\" href=https://colab.research.google.com/notebooks/data_table.ipynb>data table notebook</a>'\n",
              "          + ' to learn more about interactive tables.';\n",
              "        element.innerHTML = '';\n",
              "        dataTable['output_type'] = 'display_data';\n",
              "        await google.colab.output.renderOutput(dataTable, element);\n",
              "        const docLink = document.createElement('div');\n",
              "        docLink.innerHTML = docLinkHtml;\n",
              "        element.appendChild(docLink);\n",
              "      }\n",
              "    </script>\n",
              "  </div>\n",
              "\n",
              "\n",
              "<div id=\"df-67ebad53-39ee-4f8d-b5e7-0f181f3be926\">\n",
              "  <button class=\"colab-df-quickchart\" onclick=\"quickchart('df-67ebad53-39ee-4f8d-b5e7-0f181f3be926')\"\n",
              "            title=\"Suggest charts.\"\n",
              "            style=\"display:none;\">\n",
              "\n",
              "<svg xmlns=\"http://www.w3.org/2000/svg\" height=\"24px\"viewBox=\"0 0 24 24\"\n",
              "     width=\"24px\">\n",
              "    <g>\n",
              "        <path d=\"M19 3H5c-1.1 0-2 .9-2 2v14c0 1.1.9 2 2 2h14c1.1 0 2-.9 2-2V5c0-1.1-.9-2-2-2zM9 17H7v-7h2v7zm4 0h-2V7h2v10zm4 0h-2v-4h2v4z\"/>\n",
              "    </g>\n",
              "</svg>\n",
              "  </button>\n",
              "\n",
              "<style>\n",
              "  .colab-df-quickchart {\n",
              "      --bg-color: #E8F0FE;\n",
              "      --fill-color: #1967D2;\n",
              "      --hover-bg-color: #E2EBFA;\n",
              "      --hover-fill-color: #174EA6;\n",
              "      --disabled-fill-color: #AAA;\n",
              "      --disabled-bg-color: #DDD;\n",
              "  }\n",
              "\n",
              "  [theme=dark] .colab-df-quickchart {\n",
              "      --bg-color: #3B4455;\n",
              "      --fill-color: #D2E3FC;\n",
              "      --hover-bg-color: #434B5C;\n",
              "      --hover-fill-color: #FFFFFF;\n",
              "      --disabled-bg-color: #3B4455;\n",
              "      --disabled-fill-color: #666;\n",
              "  }\n",
              "\n",
              "  .colab-df-quickchart {\n",
              "    background-color: var(--bg-color);\n",
              "    border: none;\n",
              "    border-radius: 50%;\n",
              "    cursor: pointer;\n",
              "    display: none;\n",
              "    fill: var(--fill-color);\n",
              "    height: 32px;\n",
              "    padding: 0;\n",
              "    width: 32px;\n",
              "  }\n",
              "\n",
              "  .colab-df-quickchart:hover {\n",
              "    background-color: var(--hover-bg-color);\n",
              "    box-shadow: 0 1px 2px rgba(60, 64, 67, 0.3), 0 1px 3px 1px rgba(60, 64, 67, 0.15);\n",
              "    fill: var(--button-hover-fill-color);\n",
              "  }\n",
              "\n",
              "  .colab-df-quickchart-complete:disabled,\n",
              "  .colab-df-quickchart-complete:disabled:hover {\n",
              "    background-color: var(--disabled-bg-color);\n",
              "    fill: var(--disabled-fill-color);\n",
              "    box-shadow: none;\n",
              "  }\n",
              "\n",
              "  .colab-df-spinner {\n",
              "    border: 2px solid var(--fill-color);\n",
              "    border-color: transparent;\n",
              "    border-bottom-color: var(--fill-color);\n",
              "    animation:\n",
              "      spin 1s steps(1) infinite;\n",
              "  }\n",
              "\n",
              "  @keyframes spin {\n",
              "    0% {\n",
              "      border-color: transparent;\n",
              "      border-bottom-color: var(--fill-color);\n",
              "      border-left-color: var(--fill-color);\n",
              "    }\n",
              "    20% {\n",
              "      border-color: transparent;\n",
              "      border-left-color: var(--fill-color);\n",
              "      border-top-color: var(--fill-color);\n",
              "    }\n",
              "    30% {\n",
              "      border-color: transparent;\n",
              "      border-left-color: var(--fill-color);\n",
              "      border-top-color: var(--fill-color);\n",
              "      border-right-color: var(--fill-color);\n",
              "    }\n",
              "    40% {\n",
              "      border-color: transparent;\n",
              "      border-right-color: var(--fill-color);\n",
              "      border-top-color: var(--fill-color);\n",
              "    }\n",
              "    60% {\n",
              "      border-color: transparent;\n",
              "      border-right-color: var(--fill-color);\n",
              "    }\n",
              "    80% {\n",
              "      border-color: transparent;\n",
              "      border-right-color: var(--fill-color);\n",
              "      border-bottom-color: var(--fill-color);\n",
              "    }\n",
              "    90% {\n",
              "      border-color: transparent;\n",
              "      border-bottom-color: var(--fill-color);\n",
              "    }\n",
              "  }\n",
              "</style>\n",
              "\n",
              "  <script>\n",
              "    async function quickchart(key) {\n",
              "      const quickchartButtonEl =\n",
              "        document.querySelector('#' + key + ' button');\n",
              "      quickchartButtonEl.disabled = true;  // To prevent multiple clicks.\n",
              "      quickchartButtonEl.classList.add('colab-df-spinner');\n",
              "      try {\n",
              "        const charts = await google.colab.kernel.invokeFunction(\n",
              "            'suggestCharts', [key], {});\n",
              "      } catch (error) {\n",
              "        console.error('Error during call to suggestCharts:', error);\n",
              "      }\n",
              "      quickchartButtonEl.classList.remove('colab-df-spinner');\n",
              "      quickchartButtonEl.classList.add('colab-df-quickchart-complete');\n",
              "    }\n",
              "    (() => {\n",
              "      let quickchartButtonEl =\n",
              "        document.querySelector('#df-67ebad53-39ee-4f8d-b5e7-0f181f3be926 button');\n",
              "      quickchartButtonEl.style.display =\n",
              "        google.colab.kernel.accessAllowed ? 'block' : 'none';\n",
              "    })();\n",
              "  </script>\n",
              "</div>\n",
              "    </div>\n",
              "  </div>\n"
            ]
          },
          "metadata": {},
          "execution_count": 24
        }
      ],
      "source": [
        "def process_accords(accords):\n",
        "    # 딕셔너리로 변환\n",
        "    accords_dict = ast.literal_eval(accords)\n",
        "\n",
        "\n",
        "    result = []\n",
        "\n",
        "    # 값에 30을 나누고 반올림\n",
        "    for key, value in accords_dict.items():\n",
        "\n",
        "        repeat_count = round(value / 30)\n",
        "\n",
        "        # 반올림한 횟수만큼 키를 반복하여 결과 리스트에 추가\n",
        "        result.extend([key] * repeat_count)\n",
        "\n",
        "    return result\n",
        "\n",
        "# 함수적용\n",
        "df['main accords'] = df['main accords'].apply(process_accords)\n",
        "\n",
        "df.head()"
      ]
    },
    {
      "cell_type": "markdown",
      "metadata": {
        "id": "Xjb1jKl7AGkX"
      },
      "source": [
        "## BERT 모델을 통한 Tokenization 및 Imbedding"
      ]
    },
    {
      "cell_type": "code",
      "source": [
        "pip install transformers"
      ],
      "metadata": {
        "colab": {
          "base_uri": "https://localhost:8080/"
        },
        "id": "cFyEHgdfBC9Y",
        "outputId": "482db34e-72fe-4653-e7e8-6da5cd7fe3b3"
      },
      "execution_count": 25,
      "outputs": [
        {
          "output_type": "stream",
          "name": "stdout",
          "text": [
            "Requirement already satisfied: transformers in /usr/local/lib/python3.10/dist-packages (4.34.1)\n",
            "Requirement already satisfied: filelock in /usr/local/lib/python3.10/dist-packages (from transformers) (3.12.4)\n",
            "Requirement already satisfied: huggingface-hub<1.0,>=0.16.4 in /usr/local/lib/python3.10/dist-packages (from transformers) (0.17.3)\n",
            "Requirement already satisfied: numpy>=1.17 in /usr/local/lib/python3.10/dist-packages (from transformers) (1.23.5)\n",
            "Requirement already satisfied: packaging>=20.0 in /usr/local/lib/python3.10/dist-packages (from transformers) (23.2)\n",
            "Requirement already satisfied: pyyaml>=5.1 in /usr/local/lib/python3.10/dist-packages (from transformers) (6.0.1)\n",
            "Requirement already satisfied: regex!=2019.12.17 in /usr/local/lib/python3.10/dist-packages (from transformers) (2023.6.3)\n",
            "Requirement already satisfied: requests in /usr/local/lib/python3.10/dist-packages (from transformers) (2.31.0)\n",
            "Requirement already satisfied: tokenizers<0.15,>=0.14 in /usr/local/lib/python3.10/dist-packages (from transformers) (0.14.1)\n",
            "Requirement already satisfied: safetensors>=0.3.1 in /usr/local/lib/python3.10/dist-packages (from transformers) (0.4.0)\n",
            "Requirement already satisfied: tqdm>=4.27 in /usr/local/lib/python3.10/dist-packages (from transformers) (4.66.1)\n",
            "Requirement already satisfied: fsspec in /usr/local/lib/python3.10/dist-packages (from huggingface-hub<1.0,>=0.16.4->transformers) (2023.6.0)\n",
            "Requirement already satisfied: typing-extensions>=3.7.4.3 in /usr/local/lib/python3.10/dist-packages (from huggingface-hub<1.0,>=0.16.4->transformers) (4.5.0)\n",
            "Requirement already satisfied: charset-normalizer<4,>=2 in /usr/local/lib/python3.10/dist-packages (from requests->transformers) (3.3.1)\n",
            "Requirement already satisfied: idna<4,>=2.5 in /usr/local/lib/python3.10/dist-packages (from requests->transformers) (3.4)\n",
            "Requirement already satisfied: urllib3<3,>=1.21.1 in /usr/local/lib/python3.10/dist-packages (from requests->transformers) (2.0.7)\n",
            "Requirement already satisfied: certifi>=2017.4.17 in /usr/local/lib/python3.10/dist-packages (from requests->transformers) (2023.7.22)\n"
          ]
        }
      ]
    },
    {
      "cell_type": "code",
      "execution_count": 30,
      "metadata": {
        "id": "SA4UkJTtAGkX"
      },
      "outputs": [],
      "source": [
        "from transformers import BertTokenizer, BertModel\n",
        "import numpy as np\n",
        "from tqdm import tqdm\n",
        "import torch.nn.functional as F"
      ]
    },
    {
      "cell_type": "code",
      "execution_count": 27,
      "metadata": {
        "colab": {
          "base_uri": "https://localhost:8080/"
        },
        "id": "_KkDgTI8AGkX",
        "outputId": "b5c7d24c-89de-47a9-8fce-fed4eaa1ce4b"
      },
      "outputs": [
        {
          "output_type": "stream",
          "name": "stdout",
          "text": [
            "2.1.0+cu118\n"
          ]
        }
      ],
      "source": [
        "#버전확인\n",
        "import torch\n",
        "print(torch.__version__)\n"
      ]
    },
    {
      "cell_type": "code",
      "source": [
        "# GPU가 사용 가능한지 확인\n",
        "if torch.cuda.is_available():\n",
        "    device = torch.device(\"cuda\")\n",
        "    print('There are %d GPU(s) available.' % torch.cuda.device_count())\n",
        "    print('We will use the GPU:', torch.cuda.get_device_name(0))\n",
        "\n",
        "else:\n",
        "    print('No GPU available, using the CPU instead.')\n",
        "    device = torch.device(\"cpu\")"
      ],
      "metadata": {
        "colab": {
          "base_uri": "https://localhost:8080/"
        },
        "id": "L-5ds5cS4nal",
        "outputId": "f292db22-bf67-4093-9448-e5770e7f237c"
      },
      "execution_count": 32,
      "outputs": [
        {
          "output_type": "stream",
          "name": "stdout",
          "text": [
            "There are 1 GPU(s) available.\n",
            "We will use the GPU: Tesla T4\n"
          ]
        }
      ]
    },
    {
      "cell_type": "code",
      "source": [
        "# BERT 모델과 토큰화기 로드\n",
        "tokenizer = BertTokenizer.from_pretrained('bert-base-uncased')\n",
        "model = BertModel.from_pretrained('bert-base-uncased')\n"
      ],
      "metadata": {
        "id": "4BNqC2ChfD_m"
      },
      "execution_count": 28,
      "outputs": []
    },
    {
      "cell_type": "code",
      "execution_count": 33,
      "metadata": {
        "id": "EnC81BbkAGkY",
        "colab": {
          "base_uri": "https://localhost:8080/"
        },
        "outputId": "ac253337-9f9b-42f8-e44e-d52d64187c0d"
      },
      "outputs": [
        {
          "output_type": "stream",
          "name": "stderr",
          "text": [
            "Processing texts: 100%|██████████| 478/478 [16:21<00:00,  2.05s/it]\n"
          ]
        }
      ],
      "source": [
        "# 모든 컬럼의 내용 통합\n",
        "df['text'] = df['name'] + ' ' + df['main accords'].astype(str) + ' ' + df['description'] + ' ' + df['top notes'] + ' ' + df['middle notes'] + ' ' + df['base notes']\n",
        "\n",
        "# 새로운 데이터프레임 생성\n",
        "new_df = pd.DataFrame()\n",
        "new_df['name'] = df['name']\n",
        "\n",
        "# 텍스트를 토큰화 및 임베딩\n",
        "embeddings = []\n",
        "for text in tqdm(df['text'], desc=\"Processing texts\"):\n",
        "    # 텍스트를 토큰화 및 토큰이 512개를 초과하므로 분할\n",
        "    tokens = tokenizer.tokenize(text)\n",
        "    token_chunks = [tokens[i:i + 512] for i in range(0, len(tokens), 512)]\n",
        "\n",
        "    chunk_embeddings = []\n",
        "    for token_chunk in token_chunks:\n",
        "        # 각 부분을 모델에 입력\n",
        "        inputs = tokenizer.convert_tokens_to_ids(token_chunk)\n",
        "        inputs = torch.tensor([inputs])\n",
        "\n",
        "        # 토큰 수가 512가 되도록 패딩\n",
        "        inputs = F.pad(inputs, (0, 512 - inputs.size(1)), value=0)\n",
        "\n",
        "        outputs = model(inputs)\n",
        "\n",
        "        # 각 부분의 임베딩을 저장\n",
        "        chunk_embeddings.append(outputs.last_hidden_state.mean(dim=1).detach().numpy())\n",
        "\n",
        "    # 모든 부분의 임베딩을 평균하여 하나의 임베딩 생성\n",
        "    embeddings.append(np.mean(chunk_embeddings, axis=0))"
      ]
    },
    {
      "cell_type": "markdown",
      "source": [
        "\n",
        "\n",
        "## K-means Clustering\n",
        "군집화를 위해 최적의 K값을 확인 후 분류한다"
      ],
      "metadata": {
        "id": "_0GW03rkjWSo"
      }
    },
    {
      "cell_type": "markdown",
      "source": [
        "### *Silhouette Analysis* 를 통한 최적의 K값 확인"
      ],
      "metadata": {
        "id": "vDFKUZIZl5zR"
      }
    },
    {
      "cell_type": "markdown",
      "source": [
        "분석을 위해 차원 축소"
      ],
      "metadata": {
        "id": "eB1fsIcAP0lu"
      }
    },
    {
      "cell_type": "code",
      "source": [
        "# 각 향수의 임베딩 벡터들의 평균 구하기\n",
        "average_embeddings = [np.mean(embedding, axis=0) for embedding in embeddings]\n",
        "\n",
        "# numpy 배열로 변환\n",
        "X = np.array(average_embeddings)\n",
        "\n",
        "#2차원\n",
        "pca = PCA(n_components=2)\n",
        "X_reduced = pca.fit_transform(X)\n"
      ],
      "metadata": {
        "id": "60dHdVZoPyzt"
      },
      "execution_count": null,
      "outputs": []
    },
    {
      "cell_type": "code",
      "source": [
        "from sklearn.metrics import silhouette_score\n",
        "\n",
        "sil = []\n",
        "\n",
        "\n",
        "K = range(2,10)\n",
        "\n",
        "\n",
        "for k in K:\n",
        "  kmeans = KMeans(n_clusters = k).fit(X)\n",
        "  labels = kmeans.labels_\n",
        "  sil.append(silhouette_score(X, labels, metric = 'euclidean'))\n",
        "\n",
        "plt.plot(K, sil, 'bx-')\n",
        "plt.xlabel('k')\n",
        "plt.ylabel('Silhouette Score')\n",
        "plt.title('Silhouette Method For Optimal k')\n",
        "plt.show()\n"
      ],
      "metadata": {
        "colab": {
          "base_uri": "https://localhost:8080/",
          "height": 770
        },
        "id": "XdCYtHWfB9Ci",
        "outputId": "7bd97f2a-1c6d-4f6c-b173-3d3a28b41b09"
      },
      "execution_count": 42,
      "outputs": [
        {
          "output_type": "stream",
          "name": "stderr",
          "text": [
            "/usr/local/lib/python3.10/dist-packages/sklearn/cluster/_kmeans.py:870: FutureWarning: The default value of `n_init` will change from 10 to 'auto' in 1.4. Set the value of `n_init` explicitly to suppress the warning\n",
            "  warnings.warn(\n",
            "/usr/local/lib/python3.10/dist-packages/sklearn/cluster/_kmeans.py:870: FutureWarning: The default value of `n_init` will change from 10 to 'auto' in 1.4. Set the value of `n_init` explicitly to suppress the warning\n",
            "  warnings.warn(\n",
            "/usr/local/lib/python3.10/dist-packages/sklearn/cluster/_kmeans.py:870: FutureWarning: The default value of `n_init` will change from 10 to 'auto' in 1.4. Set the value of `n_init` explicitly to suppress the warning\n",
            "  warnings.warn(\n",
            "/usr/local/lib/python3.10/dist-packages/sklearn/cluster/_kmeans.py:870: FutureWarning: The default value of `n_init` will change from 10 to 'auto' in 1.4. Set the value of `n_init` explicitly to suppress the warning\n",
            "  warnings.warn(\n",
            "/usr/local/lib/python3.10/dist-packages/sklearn/cluster/_kmeans.py:870: FutureWarning: The default value of `n_init` will change from 10 to 'auto' in 1.4. Set the value of `n_init` explicitly to suppress the warning\n",
            "  warnings.warn(\n",
            "/usr/local/lib/python3.10/dist-packages/sklearn/cluster/_kmeans.py:870: FutureWarning: The default value of `n_init` will change from 10 to 'auto' in 1.4. Set the value of `n_init` explicitly to suppress the warning\n",
            "  warnings.warn(\n",
            "/usr/local/lib/python3.10/dist-packages/sklearn/cluster/_kmeans.py:870: FutureWarning: The default value of `n_init` will change from 10 to 'auto' in 1.4. Set the value of `n_init` explicitly to suppress the warning\n",
            "  warnings.warn(\n",
            "/usr/local/lib/python3.10/dist-packages/sklearn/cluster/_kmeans.py:870: FutureWarning: The default value of `n_init` will change from 10 to 'auto' in 1.4. Set the value of `n_init` explicitly to suppress the warning\n",
            "  warnings.warn(\n"
          ]
        },
        {
          "output_type": "display_data",
          "data": {
            "text/plain": [
              "<Figure size 640x480 with 1 Axes>"
            ],
            "image/png": "[encoded data removed]"
          },
          "metadata": {}
        }
      ]
    },
    {
      "cell_type": "markdown",
      "source": [
        "최적의 K는 5임을 볼 수 있으므로 k=5로 설정한다"
      ],
      "metadata": {
        "id": "NbggcNL4PRTf"
      }
    },
    {
      "cell_type": "code",
      "source": [
        "from sklearn.cluster import KMeans\n",
        "\n",
        "# KMeans 객체 생성. 클러스터의 수는 5\n",
        "kmeans = KMeans(n_clusters=5)\n",
        "\n",
        "# K-means 클러스터링 수행\n",
        "kmeans.fit(X)\n",
        "\n",
        "# 클러스터 레이블 얻기\n",
        "labels = kmeans.labels_\n"
      ],
      "metadata": {
        "colab": {
          "base_uri": "https://localhost:8080/"
        },
        "id": "WdSGsa3zFebH",
        "outputId": "22f2bc20-3b61-44ba-d330-5fb39f653233"
      },
      "execution_count": 44,
      "outputs": [
        {
          "output_type": "stream",
          "name": "stderr",
          "text": [
            "/usr/local/lib/python3.10/dist-packages/sklearn/cluster/_kmeans.py:870: FutureWarning: The default value of `n_init` will change from 10 to 'auto' in 1.4. Set the value of `n_init` explicitly to suppress the warning\n",
            "  warnings.warn(\n"
          ]
        }
      ]
    },
    {
      "cell_type": "code",
      "source": [
        "# 'Cluster'라는 이름의 새로운 열을 생성하고, 클러스터 레이블을 저장\n",
        "df['Cluster'] = labels\n",
        "\n",
        "\n",
        "print(df['Cluster'].unique())\n"
      ],
      "metadata": {
        "colab": {
          "base_uri": "https://localhost:8080/"
        },
        "id": "jPA3q3YTJE1d",
        "outputId": "479553a1-3e90-43a8-8540-dd2eb56b2564"
      },
      "execution_count": 60,
      "outputs": [
        {
          "output_type": "stream",
          "name": "stdout",
          "text": [
            "[0. 1. 3. 2. 4.]\n"
          ]
        }
      ]
    },
    {
      "cell_type": "code",
      "source": [
        "df_visualisation = df[['name','Cluster']]"
      ],
      "metadata": {
        "id": "Qbrjcc0_MQGv"
      },
      "execution_count": 65,
      "outputs": []
    },
    {
      "cell_type": "code",
      "source": [
        "import matplotlib.pyplot as plt\n",
        "\n",
        "\n",
        "\n",
        "# 산점도 그리기\n",
        "plt.scatter(X_reduced[:, 0], X_reduced[:, 1], c=labels, cmap='viridis')\n",
        "\n",
        "# 제목 및 x,y축 설정\n",
        "plt.title('K-means Clustering')\n",
        "plt.xlabel('PC1')\n",
        "plt.ylabel('PC2')\n",
        "\n",
        "plt.colorbar(label='Cluster Label')  # 색상에 따른 클러스터 라벨 설정\n",
        "\n",
        "\n",
        "plt.show()"
      ],
      "metadata": {
        "colab": {
          "base_uri": "https://localhost:8080/",
          "height": 472
        },
        "id": "fCEA9c3nHDQx",
        "outputId": "bdf569c6-f73e-4d12-ff0d-3e041ee36b67"
      },
      "execution_count": 71,
      "outputs": [
        {
          "output_type": "display_data",
          "data": {
            "text/plain": [
              "<Figure size 640x480 with 2 Axes>"
            ],
            "image/png": "[encoded data removed]"
          },
          "metadata": {}
        }
      ]
    },
    {
      "cell_type": "code",
      "source": [
        "#같은 cluster 값끼리 볼 수 있도록 정렬\n",
        "df_sorted = df.sort_values(by='Cluster')"
      ],
      "metadata": {
        "id": "JVA_vVu2S5Th"
      },
      "execution_count": 75,
      "outputs": []
    },
    {
      "cell_type": "code",
      "source": [
        "df_sorted.to_csv('Test_result_clustering')"
      ],
      "metadata": {
        "id": "lqkMQwU7G0Vk"
      },
      "execution_count": 76,
      "outputs": []
    },
    {
      "cell_type": "code",
      "source": [
        "df_sorted.head()"
      ],
      "metadata": {
        "colab": {
          "base_uri": "https://localhost:8080/",
          "height": 623
        },
        "id": "6Q1ZGQfdS4nt",
        "outputId": "6e000f9c-fa08-4478-ab10-e0287481b919"
      },
      "execution_count": 77,
      "outputs": [
        {
          "output_type": "execute_result",
          "data": {
            "text/plain": [
              "                                  name  \\\n",
              "0                        Angels' Share   \n",
              "93                       Black Phantom   \n",
              "293          Narciso Rodriguez For Her   \n",
              "95   Light Blue Eau Intense Pour Homme   \n",
              "97                    Fucking Fabulous   \n",
              "\n",
              "                                          main accords  \\\n",
              "0    [woody, woody, woody, sweet, sweet, sweet, war...   \n",
              "93   [sweet, sweet, sweet, warm spicy, warm spicy, ...   \n",
              "293  [musky, musky, musky, powdery, powdery, white ...   \n",
              "95   [aromatic, aromatic, aromatic, citrus, citrus,...   \n",
              "97   [aromatic, aromatic, aromatic, vanilla, vanill...   \n",
              "\n",
              "                                           description  \\\n",
              "0    Angels' Share by By Kilian is a Oriental Vanil...   \n",
              "93   Black Phantom by By Kilian is a Oriental Vanil...   \n",
              "293  Narciso Rodriguez For Her by Narciso Rodriguez...   \n",
              "95   Light Blue Eau Intense Pour Homme by Dolce&Gab...   \n",
              "97   Fucking Fabulous by Tom Ford is a Leather frag...   \n",
              "\n",
              "                                             top notes  \\\n",
              "0                                           ['Cognac']   \n",
              "93                                                  []   \n",
              "293  ['African Orange flower', 'Osmanthus', 'Bergam...   \n",
              "95                   ['Grapefruit', 'Mandarin Orange']   \n",
              "97                          ['Clary Sage', 'Lavender']   \n",
              "\n",
              "                                          middle notes  \\\n",
              "0                    ['Cinnamon', 'Tonka Bean', 'Oak']   \n",
              "93   ['Dark Chocolate', 'Rum', 'Caramel', 'Coffee',...   \n",
              "293                                  ['Musk', 'Amber']   \n",
              "95                            ['Sea water', 'Juniper']   \n",
              "97    ['Bitter Almond', 'Leather', 'Vanilla', 'Orris']   \n",
              "\n",
              "                                            base notes  \\\n",
              "0                 ['Praline', 'Vanilla', 'Sandalwood']   \n",
              "93                                                  []   \n",
              "293                ['Vetiver', 'Vanille', 'Patchouli']   \n",
              "95                               ['Amberwood', 'Musk']   \n",
              "97   ['Leather', 'Tonka Bean', 'Cashmeran', 'White ...   \n",
              "\n",
              "                                                  text  Cluster  \n",
              "0    Angels' Share ['woody', 'woody', 'woody', 'swe...      0.0  \n",
              "93   Black Phantom ['sweet', 'sweet', 'sweet', 'war...      0.0  \n",
              "293  Narciso Rodriguez For Her ['musky', 'musky', '...      0.0  \n",
              "95   Light Blue Eau Intense Pour Homme ['aromatic',...      0.0  \n",
              "97   Fucking Fabulous ['aromatic', 'aromatic', 'aro...      0.0  "
            ],
            "text/html": [
              "\n",
              "  <div id=\"df-a316d6bf-7d2d-411e-934c-0d91ebad097b\" class=\"colab-df-container\">\n",
              "    <div>\n",
              "<style scoped>\n",
              "    .dataframe tbody tr th:only-of-type {\n",
              "        vertical-align: middle;\n",
              "    }\n",
              "\n",
              "    .dataframe tbody tr th {\n",
              "        vertical-align: top;\n",
              "    }\n",
              "\n",
              "    .dataframe thead th {\n",
              "        text-align: right;\n",
              "    }\n",
              "</style>\n",
              "<table border=\"1\" class=\"dataframe\">\n",
              "  <thead>\n",
              "    <tr style=\"text-align: right;\">\n",
              "      <th></th>\n",
              "      <th>name</th>\n",
              "      <th>main accords</th>\n",
              "      <th>description</th>\n",
              "      <th>top notes</th>\n",
              "      <th>middle notes</th>\n",
              "      <th>base notes</th>\n",
              "      <th>text</th>\n",
              "      <th>Cluster</th>\n",
              "    </tr>\n",
              "  </thead>\n",
              "  <tbody>\n",
              "    <tr>\n",
              "      <th>0</th>\n",
              "      <td>Angels' Share</td>\n",
              "      <td>[woody, woody, woody, sweet, sweet, sweet, war...</td>\n",
              "      <td>Angels' Share by By Kilian is a Oriental Vanil...</td>\n",
              "      <td>['Cognac']</td>\n",
              "      <td>['Cinnamon', 'Tonka Bean', 'Oak']</td>\n",
              "      <td>['Praline', 'Vanilla', 'Sandalwood']</td>\n",
              "      <td>Angels' Share ['woody', 'woody', 'woody', 'swe...</td>\n",
              "      <td>0.0</td>\n",
              "    </tr>\n",
              "    <tr>\n",
              "      <th>93</th>\n",
              "      <td>Black Phantom</td>\n",
              "      <td>[sweet, sweet, sweet, warm spicy, warm spicy, ...</td>\n",
              "      <td>Black Phantom by By Kilian is a Oriental Vanil...</td>\n",
              "      <td>[]</td>\n",
              "      <td>['Dark Chocolate', 'Rum', 'Caramel', 'Coffee',...</td>\n",
              "      <td>[]</td>\n",
              "      <td>Black Phantom ['sweet', 'sweet', 'sweet', 'war...</td>\n",
              "      <td>0.0</td>\n",
              "    </tr>\n",
              "    <tr>\n",
              "      <th>293</th>\n",
              "      <td>Narciso Rodriguez For Her</td>\n",
              "      <td>[musky, musky, musky, powdery, powdery, white ...</td>\n",
              "      <td>Narciso Rodriguez For Her by Narciso Rodriguez...</td>\n",
              "      <td>['African Orange flower', 'Osmanthus', 'Bergam...</td>\n",
              "      <td>['Musk', 'Amber']</td>\n",
              "      <td>['Vetiver', 'Vanille', 'Patchouli']</td>\n",
              "      <td>Narciso Rodriguez For Her ['musky', 'musky', '...</td>\n",
              "      <td>0.0</td>\n",
              "    </tr>\n",
              "    <tr>\n",
              "      <th>95</th>\n",
              "      <td>Light Blue Eau Intense Pour Homme</td>\n",
              "      <td>[aromatic, aromatic, aromatic, citrus, citrus,...</td>\n",
              "      <td>Light Blue Eau Intense Pour Homme by Dolce&amp;Gab...</td>\n",
              "      <td>['Grapefruit', 'Mandarin Orange']</td>\n",
              "      <td>['Sea water', 'Juniper']</td>\n",
              "      <td>['Amberwood', 'Musk']</td>\n",
              "      <td>Light Blue Eau Intense Pour Homme ['aromatic',...</td>\n",
              "      <td>0.0</td>\n",
              "    </tr>\n",
              "    <tr>\n",
              "      <th>97</th>\n",
              "      <td>Fucking Fabulous</td>\n",
              "      <td>[aromatic, aromatic, aromatic, vanilla, vanill...</td>\n",
              "      <td>Fucking Fabulous by Tom Ford is a Leather frag...</td>\n",
              "      <td>['Clary Sage', 'Lavender']</td>\n",
              "      <td>['Bitter Almond', 'Leather', 'Vanilla', 'Orris']</td>\n",
              "      <td>['Leather', 'Tonka Bean', 'Cashmeran', 'White ...</td>\n",
              "      <td>Fucking Fabulous ['aromatic', 'aromatic', 'aro...</td>\n",
              "      <td>0.0</td>\n",
              "    </tr>\n",
              "  </tbody>\n",
              "</table>\n",
              "</div>\n",
              "    <div class=\"colab-df-buttons\">\n",
              "\n",
              "  <div class=\"colab-df-container\">\n",
              "    <button class=\"colab-df-convert\" onclick=\"convertToInteractive('df-a316d6bf-7d2d-411e-934c-0d91ebad097b')\"\n",
              "            title=\"Convert this dataframe to an interactive table.\"\n",
              "            style=\"display:none;\">\n",
              "\n",
              "  <svg xmlns=\"http://www.w3.org/2000/svg\" height=\"24px\" viewBox=\"0 -960 960 960\">\n",
              "    <path d=\"M120-120v-720h720v720H120Zm60-500h600v-160H180v160Zm220 220h160v-160H400v160Zm0 220h160v-160H400v160ZM180-400h160v-160H180v160Zm440 0h160v-160H620v160ZM180-180h160v-160H180v160Zm440 0h160v-160H620v160Z\"/>\n",
              "  </svg>\n",
              "    </button>\n",
              "\n",
              "  <style>\n",
              "    .colab-df-container {\n",
              "      display:flex;\n",
              "      gap: 12px;\n",
              "    }\n",
              "\n",
              "    .colab-df-convert {\n",
              "      background-color: #E8F0FE;\n",
              "      border: none;\n",
              "      border-radius: 50%;\n",
              "      cursor: pointer;\n",
              "      display: none;\n",
              "      fill: #1967D2;\n",
              "      height: 32px;\n",
              "      padding: 0 0 0 0;\n",
              "      width: 32px;\n",
              "    }\n",
              "\n",
              "    .colab-df-convert:hover {\n",
              "      background-color: #E2EBFA;\n",
              "      box-shadow: 0px 1px 2px rgba(60, 64, 67, 0.3), 0px 1px 3px 1px rgba(60, 64, 67, 0.15);\n",
              "      fill: #174EA6;\n",
              "    }\n",
              "\n",
              "    .colab-df-buttons div {\n",
              "      margin-bottom: 4px;\n",
              "    }\n",
              "\n",
              "    [theme=dark] .colab-df-convert {\n",
              "      background-color: #3B4455;\n",
              "      fill: #D2E3FC;\n",
              "    }\n",
              "\n",
              "    [theme=dark] .colab-df-convert:hover {\n",
              "      background-color: #434B5C;\n",
              "      box-shadow: 0px 1px 3px 1px rgba(0, 0, 0, 0.15);\n",
              "      filter: drop-shadow(0px 1px 2px rgba(0, 0, 0, 0.3));\n",
              "      fill: #FFFFFF;\n",
              "    }\n",
              "  </style>\n",
              "\n",
              "    <script>\n",
              "      const buttonEl =\n",
              "        document.querySelector('#df-a316d6bf-7d2d-411e-934c-0d91ebad097b button.colab-df-convert');\n",
              "      buttonEl.style.display =\n",
              "        google.colab.kernel.accessAllowed ? 'block' : 'none';\n",
              "\n",
              "      async function convertToInteractive(key) {\n",
              "        const element = document.querySelector('#df-a316d6bf-7d2d-411e-934c-0d91ebad097b');\n",
              "        const dataTable =\n",
              "          await google.colab.kernel.invokeFunction('convertToInteractive',\n",
              "                                                    [key], {});\n",
              "        if (!dataTable) return;\n",
              "\n",
              "        const docLinkHtml = 'Like what you see? Visit the ' +\n",
              "          '<a target=\"_blank\" href=https://colab.research.google.com/notebooks/data_table.ipynb>data table notebook</a>'\n",
              "          + ' to learn more about interactive tables.';\n",
              "        element.innerHTML = '';\n",
              "        dataTable['output_type'] = 'display_data';\n",
              "        await google.colab.output.renderOutput(dataTable, element);\n",
              "        const docLink = document.createElement('div');\n",
              "        docLink.innerHTML = docLinkHtml;\n",
              "        element.appendChild(docLink);\n",
              "      }\n",
              "    </script>\n",
              "  </div>\n",
              "\n",
              "\n",
              "<div id=\"df-4dfe7fba-6714-4cef-83d6-93cc35a1f3d0\">\n",
              "  <button class=\"colab-df-quickchart\" onclick=\"quickchart('df-4dfe7fba-6714-4cef-83d6-93cc35a1f3d0')\"\n",
              "            title=\"Suggest charts.\"\n",
              "            style=\"display:none;\">\n",
              "\n",
              "<svg xmlns=\"http://www.w3.org/2000/svg\" height=\"24px\"viewBox=\"0 0 24 24\"\n",
              "     width=\"24px\">\n",
              "    <g>\n",
              "        <path d=\"M19 3H5c-1.1 0-2 .9-2 2v14c0 1.1.9 2 2 2h14c1.1 0 2-.9 2-2V5c0-1.1-.9-2-2-2zM9 17H7v-7h2v7zm4 0h-2V7h2v10zm4 0h-2v-4h2v4z\"/>\n",
              "    </g>\n",
              "</svg>\n",
              "  </button>\n",
              "\n",
              "<style>\n",
              "  .colab-df-quickchart {\n",
              "      --bg-color: #E8F0FE;\n",
              "      --fill-color: #1967D2;\n",
              "      --hover-bg-color: #E2EBFA;\n",
              "      --hover-fill-color: #174EA6;\n",
              "      --disabled-fill-color: #AAA;\n",
              "      --disabled-bg-color: #DDD;\n",
              "  }\n",
              "\n",
              "  [theme=dark] .colab-df-quickchart {\n",
              "      --bg-color: #3B4455;\n",
              "      --fill-color: #D2E3FC;\n",
              "      --hover-bg-color: #434B5C;\n",
              "      --hover-fill-color: #FFFFFF;\n",
              "      --disabled-bg-color: #3B4455;\n",
              "      --disabled-fill-color: #666;\n",
              "  }\n",
              "\n",
              "  .colab-df-quickchart {\n",
              "    background-color: var(--bg-color);\n",
              "    border: none;\n",
              "    border-radius: 50%;\n",
              "    cursor: pointer;\n",
              "    display: none;\n",
              "    fill: var(--fill-color);\n",
              "    height: 32px;\n",
              "    padding: 0;\n",
              "    width: 32px;\n",
              "  }\n",
              "\n",
              "  .colab-df-quickchart:hover {\n",
              "    background-color: var(--hover-bg-color);\n",
              "    box-shadow: 0 1px 2px rgba(60, 64, 67, 0.3), 0 1px 3px 1px rgba(60, 64, 67, 0.15);\n",
              "    fill: var(--button-hover-fill-color);\n",
              "  }\n",
              "\n",
              "  .colab-df-quickchart-complete:disabled,\n",
              "  .colab-df-quickchart-complete:disabled:hover {\n",
              "    background-color: var(--disabled-bg-color);\n",
              "    fill: var(--disabled-fill-color);\n",
              "    box-shadow: none;\n",
              "  }\n",
              "\n",
              "  .colab-df-spinner {\n",
              "    border: 2px solid var(--fill-color);\n",
              "    border-color: transparent;\n",
              "    border-bottom-color: var(--fill-color);\n",
              "    animation:\n",
              "      spin 1s steps(1) infinite;\n",
              "  }\n",
              "\n",
              "  @keyframes spin {\n",
              "    0% {\n",
              "      border-color: transparent;\n",
              "      border-bottom-color: var(--fill-color);\n",
              "      border-left-color: var(--fill-color);\n",
              "    }\n",
              "    20% {\n",
              "      border-color: transparent;\n",
              "      border-left-color: var(--fill-color);\n",
              "      border-top-color: var(--fill-color);\n",
              "    }\n",
              "    30% {\n",
              "      border-color: transparent;\n",
              "      border-left-color: var(--fill-color);\n",
              "      border-top-color: var(--fill-color);\n",
              "      border-right-color: var(--fill-color);\n",
              "    }\n",
              "    40% {\n",
              "      border-color: transparent;\n",
              "      border-right-color: var(--fill-color);\n",
              "      border-top-color: var(--fill-color);\n",
              "    }\n",
              "    60% {\n",
              "      border-color: transparent;\n",
              "      border-right-color: var(--fill-color);\n",
              "    }\n",
              "    80% {\n",
              "      border-color: transparent;\n",
              "      border-right-color: var(--fill-color);\n",
              "      border-bottom-color: var(--fill-color);\n",
              "    }\n",
              "    90% {\n",
              "      border-color: transparent;\n",
              "      border-bottom-color: var(--fill-color);\n",
              "    }\n",
              "  }\n",
              "</style>\n",
              "\n",
              "  <script>\n",
              "    async function quickchart(key) {\n",
              "      const quickchartButtonEl =\n",
              "        document.querySelector('#' + key + ' button');\n",
              "      quickchartButtonEl.disabled = true;  // To prevent multiple clicks.\n",
              "      quickchartButtonEl.classList.add('colab-df-spinner');\n",
              "      try {\n",
              "        const charts = await google.colab.kernel.invokeFunction(\n",
              "            'suggestCharts', [key], {});\n",
              "      } catch (error) {\n",
              "        console.error('Error during call to suggestCharts:', error);\n",
              "      }\n",
              "      quickchartButtonEl.classList.remove('colab-df-spinner');\n",
              "      quickchartButtonEl.classList.add('colab-df-quickchart-complete');\n",
              "    }\n",
              "    (() => {\n",
              "      let quickchartButtonEl =\n",
              "        document.querySelector('#df-4dfe7fba-6714-4cef-83d6-93cc35a1f3d0 button');\n",
              "      quickchartButtonEl.style.display =\n",
              "        google.colab.kernel.accessAllowed ? 'block' : 'none';\n",
              "    })();\n",
              "  </script>\n",
              "</div>\n",
              "    </div>\n",
              "  </div>\n"
            ]
          },
          "metadata": {},
          "execution_count": 77
        }
      ]
    },
    {
      "cell_type": "code",
      "source": [],
      "metadata": {
        "id": "9FKTQWw7Sfwp"
      },
      "execution_count": null,
      "outputs": []
    }
  ],
  "metadata": {
    "kernelspec": {
      "display_name": "Python 3",
      "name": "python3"
    },
    "language_info": {
      "codemirror_mode": {
        "name": "ipython",
        "version": 3
      },
      "file_extension": ".py",
      "mimetype": "text/x-python",
      "name": "python",
      "nbconvert_exporter": "python",
      "pygments_lexer": "ipython3",
      "version": "3.11.5"
    },
    "orig_nbformat": 4,
    "colab": {
      "provenance": [],
      "gpuType": "T4"
    },
    "accelerator": "GPU"
  },
  "nbformat": 4,
  "nbformat_minor": 0
}